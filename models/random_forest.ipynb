{
 "cells": [
  {
   "cell_type": "code",
   "execution_count": 1,
   "metadata": {
    "collapsed": true
   },
   "outputs": [],
   "source": [
    "# Make my plots pretty!\n",
    "from __future__ import print_function\n",
    "import numpy as np\n",
    "import matplotlib.pyplot as plt\n",
    "import matplotlib as mpl\n",
    "mpl.rcParams['savefig.dpi'] = 100\n",
    "mpl.rcParams['figure.dpi'] = 100\n",
    "\n",
    "%config InlineBackend.figure_format = 'retina'\n",
    "%matplotlib inline"
   ]
  },
  {
   "cell_type": "markdown",
   "metadata": {},
   "source": [
    "# Random Forests\n",
    "\n",
    "Looks like the 20k-5k set was too easy for random forests. Let's make a bigger train/test set."
   ]
  },
  {
   "cell_type": "code",
   "execution_count": 3,
   "metadata": {
    "collapsed": false
   },
   "outputs": [
    {
     "data": {
      "text/plain": [
       "<module 'data' from 'data.pyc'>"
      ]
     },
     "execution_count": 3,
     "metadata": {},
     "output_type": "execute_result"
    }
   ],
   "source": [
    "# Load word embeddings. 100d to be quick\n",
    "import sys\n",
    "import torch\n",
    "sys.path.append('../models/')\n",
    "import data\n",
    "reload(data)"
   ]
  },
  {
   "cell_type": "code",
   "execution_count": 10,
   "metadata": {
    "collapsed": false,
    "scrolled": true
   },
   "outputs": [
    {
     "name": "stdout",
     "output_type": "stream",
     "text": [
      "404270\n"
     ]
    },
    {
     "data": {
      "text/plain": [
       "[(['what',\n",
       "   'is',\n",
       "   'the',\n",
       "   'step',\n",
       "   'by',\n",
       "   'step',\n",
       "   'guide',\n",
       "   'to',\n",
       "   'invest',\n",
       "   'in',\n",
       "   'share',\n",
       "   'market',\n",
       "   'in',\n",
       "   'india',\n",
       "   '?'],\n",
       "  ['what',\n",
       "   'is',\n",
       "   'the',\n",
       "   'step',\n",
       "   'by',\n",
       "   'step',\n",
       "   'guide',\n",
       "   'to',\n",
       "   'invest',\n",
       "   'in',\n",
       "   'share',\n",
       "   'market',\n",
       "   '?'],\n",
       "  0),\n",
       " (['what',\n",
       "   'is',\n",
       "   'the',\n",
       "   'story',\n",
       "   'of',\n",
       "   'kohinoor',\n",
       "   '(',\n",
       "   'koh-i-noor',\n",
       "   ')',\n",
       "   'diamond',\n",
       "   '?'],\n",
       "  ['what',\n",
       "   'would',\n",
       "   'happen',\n",
       "   'if',\n",
       "   'the',\n",
       "   'indian',\n",
       "   'government',\n",
       "   'stole',\n",
       "   'the',\n",
       "   'kohinoor',\n",
       "   '(',\n",
       "   'koh-i-noor',\n",
       "   ')',\n",
       "   'diamond',\n",
       "   'back',\n",
       "   '?'],\n",
       "  0),\n",
       " (['how',\n",
       "   'can',\n",
       "   'i',\n",
       "   'increase',\n",
       "   'the',\n",
       "   'speed',\n",
       "   'of',\n",
       "   'my',\n",
       "   'internet',\n",
       "   'connection',\n",
       "   'while',\n",
       "   'using',\n",
       "   'a',\n",
       "   'vpn',\n",
       "   '?'],\n",
       "  ['how',\n",
       "   'can',\n",
       "   'internet',\n",
       "   'speed',\n",
       "   'be',\n",
       "   'increased',\n",
       "   'by',\n",
       "   'hacking',\n",
       "   'through',\n",
       "   'dns',\n",
       "   '?'],\n",
       "  0)]"
      ]
     },
     "execution_count": 10,
     "metadata": {},
     "output_type": "execute_result"
    }
   ],
   "source": [
    "import pickle\n",
    "quora_all = pickle.load(open('../data/train_clean.pickle', 'rb'))\n",
    "print(len(quora_all))\n",
    "quora_all[:3]"
   ]
  },
  {
   "cell_type": "code",
   "execution_count": 11,
   "metadata": {
    "collapsed": true
   },
   "outputs": [],
   "source": [
    "np.random.shuffle(quora_all)"
   ]
  },
  {
   "cell_type": "code",
   "execution_count": 13,
   "metadata": {
    "collapsed": true
   },
   "outputs": [],
   "source": [
    "quora_train1 = quora_all[:50000]\n",
    "quora_train2 = quora_all[50000:100000]\n",
    "quora_train3 = quora_all[10000:150000]\n",
    "quora_tfidf = quora_all[:350000]\n",
    "quora_valid = quora_all[350000:]"
   ]
  },
  {
   "cell_type": "code",
   "execution_count": 14,
   "metadata": {
    "collapsed": true
   },
   "outputs": [],
   "source": [
    "# Produce a flat list for the tfidf.\n",
    "def gen_tfidf():\n",
    "    for q1, q2, y in quora_tfidf:\n",
    "        yield q1\n",
    "        yield q2"
   ]
  },
  {
   "cell_type": "code",
   "execution_count": 9,
   "metadata": {
    "collapsed": false
   },
   "outputs": [
    {
     "name": "stdout",
     "output_type": "stream",
     "text": [
      "Loading GloVE.\n",
      "Loaded 20001 words (D=100) from GloVE.\n"
     ]
    }
   ],
   "source": [
    "import messy_features\n",
    "reload(messy_features)\n",
    "\n",
    "quora1 = messy_features.QuoraSlice(\n",
    "    '../data/glove.6B.100d.txt', # glove path,\n",
    "    gen_tfidf(), #tfidf_corpus\n",
    "    quora_train1, #dataset\n",
    ")"
   ]
  },
  {
   "cell_type": "code",
   "execution_count": null,
   "metadata": {
    "collapsed": true
   },
   "outputs": [],
   "source": []
  }
 ],
 "metadata": {
  "kernelspec": {
   "display_name": "Python [python2]",
   "language": "python",
   "name": "Python [python2]"
  },
  "language_info": {
   "codemirror_mode": {
    "name": "ipython",
    "version": 2
   },
   "file_extension": ".py",
   "mimetype": "text/x-python",
   "name": "python",
   "nbconvert_exporter": "python",
   "pygments_lexer": "ipython2",
   "version": "2.7.13"
  }
 },
 "nbformat": 4,
 "nbformat_minor": 0
}
