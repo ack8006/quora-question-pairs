{
 "cells": [
  {
   "cell_type": "code",
   "execution_count": 1,
   "metadata": {
    "collapsed": true
   },
   "outputs": [],
   "source": [
    "# Make my plots pretty!\n",
    "from __future__ import print_function\n",
    "import numpy as np\n",
    "import matplotlib.pyplot as plt\n",
    "import matplotlib as mpl\n",
    "mpl.rcParams['savefig.dpi'] = 100\n",
    "mpl.rcParams['figure.dpi'] = 100\n",
    "\n",
    "%config InlineBackend.figure_format = 'retina'\n",
    "%matplotlib inline"
   ]
  },
  {
   "cell_type": "markdown",
   "metadata": {},
   "source": [
    "# Feature Extraction Part 3\n",
    "\n",
    "Yesterday's experiments seems to yield good features. I have one more trick up my sleeve as far as feature generation is concerned: combining tf-idf and word embeddings.\n",
    "\n",
    "Then we'll try some other classification methods like random forests and XGBoost.\n",
    "\n",
    "I'll also refactor some of my code into python functions that can be reused."
   ]
  },
  {
   "cell_type": "code",
   "execution_count": 2,
   "metadata": {
    "collapsed": false
   },
   "outputs": [
    {
     "name": "stdout",
     "output_type": "stream",
     "text": [
      "20000\n",
      "5000\n"
     ]
    }
   ],
   "source": [
    "# Just load the small training/validation sets we made, no need the whole model.\n",
    "import pickle\n",
    "train_set = pickle.load(open('../data/train_small.pickle', 'r'))\n",
    "valid_set = pickle.load(open('../data/valid_small.pickle', 'r'))\n",
    "print(len(train_set))\n",
    "print(len(valid_set))"
   ]
  },
  {
   "cell_type": "code",
   "execution_count": 5,
   "metadata": {
    "collapsed": true
   },
   "outputs": [],
   "source": [
    "import torch\n",
    "import data"
   ]
  },
  {
   "cell_type": "code",
   "execution_count": 6,
   "metadata": {
    "collapsed": false
   },
   "outputs": [],
   "source": [
    "# Load word embeddings. 100d to be quick\n",
    "import sys\n",
    "sys.path.append('../models/')\n",
    "import data\n",
    "reload(data)\n",
    "\n",
    "dictionary, lookup, embed = data.load_embeddings('../data/glove.6B.100d.txt', max_words=15000)"
   ]
  },
  {
   "cell_type": "code",
   "execution_count": 7,
   "metadata": {
    "collapsed": false
   },
   "outputs": [
    {
     "data": {
      "text/plain": [
       "Variable containing:\n",
       "-3.8194e-02 -2.4487e-01  7.2812e-01  ...  -1.4590e-01  8.2780e-01  2.7062e-01\n",
       "-1.0767e-01  1.1053e-01  5.9812e-01  ...  -8.3155e-01  4.5293e-01  8.2577e-02\n",
       "-3.3979e-01  2.0941e-01  4.6348e-01  ...  -2.3394e-01  4.7298e-01 -2.8803e-02\n",
       "                ...                   ⋱                   ...                \n",
       "-7.9588e-02  1.0425e+00  1.1980e+00  ...  -6.5562e-01  7.9654e-01  3.7697e-01\n",
       "-9.2921e-03  1.8686e-01  8.4314e-02  ...   7.0178e-01  5.6552e-01 -4.3409e-01\n",
       " 3.2396e-01  5.9810e-01  1.2378e+00  ...   1.0485e-01  4.9419e-01  3.0868e-01\n",
       "[torch.FloatTensor of size 100x100]"
      ]
     },
     "execution_count": 7,
     "metadata": {},
     "output_type": "execute_result"
    }
   ],
   "source": [
    "embed.weight[:100]"
   ]
  },
  {
   "cell_type": "code",
   "execution_count": 8,
   "metadata": {
    "collapsed": false
   },
   "outputs": [],
   "source": [
    "# Sentence to word embedding indices.\n",
    "reload(data)\n",
    "q1s, q2s, ys = data.tensorize(train_set[:2000], dictionary)"
   ]
  },
  {
   "cell_type": "code",
   "execution_count": 9,
   "metadata": {
    "collapsed": false
   },
   "outputs": [],
   "source": [
    "# Check the results\n",
    "from torch.autograd import Variable\n",
    "v = Variable(q1s[:5, :10])"
   ]
  },
  {
   "cell_type": "code",
   "execution_count": 10,
   "metadata": {
    "collapsed": false
   },
   "outputs": [
    {
     "data": {
      "text/plain": [
       "torch.Size([5, 10, 100])"
      ]
     },
     "execution_count": 10,
     "metadata": {},
     "output_type": "execute_result"
    }
   ],
   "source": [
    "embed(v).size()"
   ]
  },
  {
   "cell_type": "markdown",
   "metadata": {},
   "source": [
    "# TF-IDF\n",
    "\n",
    "Let's count TF-IDF on the whole training set."
   ]
  },
  {
   "cell_type": "raw",
   "metadata": {
    "collapsed": false,
    "scrolled": true
   },
   "source": [
    "from sklearn.feature_extraction.text import TfidfVectorizer\n",
    "reload(data)"
   ]
  },
  {
   "cell_type": "raw",
   "metadata": {
    "collapsed": true
   },
   "source": [
    "q1_word_tokenized = data.load_tokenized('../data/train_q1.txt')"
   ]
  },
  {
   "cell_type": "raw",
   "metadata": {
    "collapsed": false
   },
   "source": [
    "q2_word_tokenized = data.load_tokenized('../data/train_q2.txt')\n",
    "print('len:', len(q2_word_tokenized))\n",
    "print(q2_word_tokenized[1234])"
   ]
  },
  {
   "cell_type": "raw",
   "metadata": {
    "collapsed": true
   },
   "source": [
    "import itertools\n",
    "import pandas as pd\n",
    "tf = TfidfVectorizer(norm=None) # Norm none is important, because we want raw counts.\n",
    "#itertools.chain()"
   ]
  },
  {
   "cell_type": "raw",
   "metadata": {
    "collapsed": false
   },
   "source": [
    "%time tf.fit(itertools.imap(lambda x: ' '.join(x), itertools.chain(q1_word_tokenized, q2_word_tokenized)))"
   ]
  },
  {
   "cell_type": "raw",
   "metadata": {
    "collapsed": false
   },
   "source": [
    "# Save this so I don't have to do this again.\n",
    "%time pickle.dump(tf, open('tfidf.pickle', 'wb'))"
   ]
  },
  {
   "cell_type": "code",
   "execution_count": 11,
   "metadata": {
    "collapsed": false
   },
   "outputs": [
    {
     "name": "stdout",
     "output_type": "stream",
     "text": [
      "CPU times: user 996 ms, sys: 28 ms, total: 1.02 s\n",
      "Wall time: 1.12 s\n"
     ]
    }
   ],
   "source": [
    "%time tf = pickle.load(open('tfidf.pickle', 'rb'))"
   ]
  },
  {
   "cell_type": "markdown",
   "metadata": {},
   "source": [
    "What does one of these tf-idf vectors look like?"
   ]
  },
  {
   "cell_type": "code",
   "execution_count": 12,
   "metadata": {
    "collapsed": false,
    "scrolled": true
   },
   "outputs": [
    {
     "name": "stdout",
     "output_type": "stream",
     "text": [
      "0.1\n"
     ]
    }
   ],
   "source": [
    "sentence_sparse = tf.transform(['zxlkxdjfs'])\n",
    "print(max(sentence_sparse.max(), 0.1))"
   ]
  },
  {
   "cell_type": "code",
   "execution_count": 13,
   "metadata": {
    "collapsed": false
   },
   "outputs": [],
   "source": [
    "reload(data)\n",
    "tfidf_embed = data.convert_tfidf_vectorizer(tf, lookup)"
   ]
  },
  {
   "cell_type": "code",
   "execution_count": 14,
   "metadata": {
    "collapsed": false
   },
   "outputs": [
    {
     "name": "stdout",
     "output_type": "stream",
     "text": [
      "torch.Size([5, 10])\n",
      "torch.Size([5, 10, 100]) torch.Size([5, 10, 1])\n"
     ]
    },
    {
     "data": {
      "text/plain": [
       "Variable containing:\n",
       "\n",
       "Columns 0 to 7 \n",
       "  1.9423   2.1463   0.1000   0.1000   0.1000  12.3004  12.3004  12.3004\n",
       "  2.1463   8.9718  11.8304   1.9740   7.6923  12.1181   5.3403   0.1000\n",
       "  3.9275   8.7711   6.7568   9.1520   0.1000   4.0407   5.7856   0.1000\n",
       "  2.3178   5.1970   2.6165   0.1000   4.8106   4.4522   6.8567   2.7255\n",
       "  3.9457   3.3237   0.1000   5.2235   4.1671   0.1000   2.6165   5.0237\n",
       "\n",
       "Columns 8 to 9 \n",
       " 12.3004  12.3004\n",
       " 12.3004  12.3004\n",
       " 12.3004  12.3004\n",
       "  5.2735   7.1635\n",
       "  8.1589   6.2100\n",
       "[torch.FloatTensor of size 5x10]"
      ]
     },
     "execution_count": 14,
     "metadata": {},
     "output_type": "execute_result"
    }
   ],
   "source": [
    "# Try computing it\n",
    "print(v.size())\n",
    "wd_v = embed(v)\n",
    "tf_v = tfidf_embed(v)\n",
    "\n",
    "print(wd_v.size(), tf_v.size())\n",
    "tf_v.squeeze()"
   ]
  },
  {
   "cell_type": "code",
   "execution_count": 15,
   "metadata": {
    "collapsed": false
   },
   "outputs": [
    {
     "data": {
      "text/plain": [
       "torch.Size([5, 10, 100])"
      ]
     },
     "execution_count": 15,
     "metadata": {},
     "output_type": "execute_result"
    }
   ],
   "source": [
    "# Use this to rescale the tensor\n",
    "wd_scaled = wd_v * tf_v.repeat(1,1,100)\n",
    "wd_scaled.size()"
   ]
  },
  {
   "cell_type": "code",
   "execution_count": 16,
   "metadata": {
    "collapsed": false,
    "scrolled": true
   },
   "outputs": [
    {
     "data": {
      "text/plain": [
       "Variable containing:\n",
       " 0\n",
       "[torch.FloatTensor of size 1]"
      ]
     },
     "execution_count": 16,
     "metadata": {},
     "output_type": "execute_result"
    }
   ],
   "source": [
    "# Compare with:\n",
    "reload(data)\n",
    "wd_scaled2 = data.get_reweighted_embeddings(tfidf_embed, embed, v)\n",
    "torch.max(wd_scaled2 - wd_scaled)"
   ]
  },
  {
   "cell_type": "code",
   "execution_count": 17,
   "metadata": {
    "collapsed": true
   },
   "outputs": [],
   "source": [
    "# Sentence to word embedding indices.\n",
    "reload(data)\n",
    "q1_train_all, q2_train_all, y_train = data.tensorize(train_set, dictionary)"
   ]
  },
  {
   "cell_type": "code",
   "execution_count": 18,
   "metadata": {
    "collapsed": false,
    "scrolled": false
   },
   "outputs": [],
   "source": [
    "q1_valid_all, q2_valid_all, y_valid = data.tensorize(valid_set, dictionary)"
   ]
  },
  {
   "cell_type": "code",
   "execution_count": 19,
   "metadata": {
    "collapsed": false
   },
   "outputs": [
    {
     "name": "stdout",
     "output_type": "stream",
     "text": [
      "torch.Size([20000, 30])\n",
      "torch.Size([20000, 30])\n",
      "torch.Size([5000, 30])\n"
     ]
    }
   ],
   "source": [
    "print(q1_train_all.size())\n",
    "print(q2_train_all.size())\n",
    "print(q2_valid_all.size())"
   ]
  },
  {
   "cell_type": "markdown",
   "metadata": {},
   "source": [
    "# Feature Vectors\n",
    "\n",
    "Now each sentence is encoded as an Lx30 matrix. Let's use the vectorization techniques. The results of each should be a NxD matrix, one row for each training example."
   ]
  },
  {
   "cell_type": "code",
   "execution_count": 20,
   "metadata": {
    "collapsed": false
   },
   "outputs": [],
   "source": [
    "X_train_q1 = embed(Variable(q1_train_all))\n",
    "X_train_q2 = embed(Variable(q2_train_all))\n",
    "X_valid_q1 = embed(Variable(q1_valid_all))\n",
    "X_valid_q2 = embed(Variable(q2_valid_all))"
   ]
  },
  {
   "cell_type": "code",
   "execution_count": 21,
   "metadata": {
    "collapsed": false
   },
   "outputs": [
    {
     "name": "stdout",
     "output_type": "stream",
     "text": [
      "torch.Size([20000, 100])\n"
     ]
    }
   ],
   "source": [
    "import features\n",
    "reload(features)\n",
    "\n",
    "# The simplest thing would be averaging all the per-word vectors to get a single sentence embedding.\n",
    "X_train_q1_mean = X_train_q1.mean(dim=1).squeeze()\n",
    "X_train_q2_mean = X_train_q2.mean(dim=1).squeeze()\n",
    "X_valid_q1_mean = X_valid_q1.mean(dim=1).squeeze()\n",
    "X_valid_q2_mean = X_valid_q2.mean(dim=1).squeeze()\n",
    "print(X_train_q1_mean.size())"
   ]
  },
  {
   "cell_type": "code",
   "execution_count": 87,
   "metadata": {
    "collapsed": false,
    "scrolled": true
   },
   "outputs": [
    {
     "name": "stdout",
     "output_type": "stream",
     "text": [
      "0\n",
      "100\n",
      "200\n",
      "300\n",
      "400\n",
      "(500, 10)\n"
     ]
    }
   ],
   "source": [
    "reload(features)\n",
    "perm = features.Permute(differentiable=False, n_trials=1000, power=0.05)\n",
    "\n",
    "from_module = []\n",
    "for trial in xrange(500):\n",
    "    if trial % 100 == 0:\n",
    "        print(trial)\n",
    "    xq1_small = X_train_q1[:2]\n",
    "    xq2_small = X_train_q2[:2]\n",
    "    samples, x_small = perm(xq1_small, xq2_small)\n",
    "    from_module.append(x_small[0,10:20].data.numpy())\n",
    "from_module = np.stack(from_module, axis=0)\n",
    "print(from_module.shape)"
   ]
  },
  {
   "cell_type": "code",
   "execution_count": 94,
   "metadata": {
    "collapsed": false
   },
   "outputs": [
    {
     "name": "stdout",
     "output_type": "stream",
     "text": [
      "0\n",
      "100\n",
      "200\n",
      "300\n",
      "400\n",
      "500\n",
      "600\n",
      "700\n"
     ]
    }
   ],
   "source": [
    "reload(features)\n",
    "perm = features.Permute(differentiable=True, n_trials=1000, power=0.05)\n",
    "\n",
    "differentiable_results = []\n",
    "for trial in xrange(800):\n",
    "    if trial % 100 == 0:\n",
    "        print(trial)\n",
    "    xq1_small = X_train_q1[:2]\n",
    "    xq2_small = X_train_q2[:2]\n",
    "    samples, x_small = perm(xq1_small, xq2_small)\n",
    "    differentiable_results.append(x_small[0,10:20].data.numpy())"
   ]
  },
  {
   "cell_type": "code",
   "execution_count": 53,
   "metadata": {
    "collapsed": false
   },
   "outputs": [
    {
     "name": "stdout",
     "output_type": "stream",
     "text": [
      "(2500, 10)\n"
     ]
    }
   ],
   "source": [
    "#verification = []\n",
    "from_md_nps = np.concatenate([from_md_nps, from_module])\n",
    "print(from_md_nps.shape)"
   ]
  },
  {
   "cell_type": "code",
   "execution_count": 39,
   "metadata": {
    "collapsed": true
   },
   "outputs": [],
   "source": [
    "verification = []"
   ]
  },
  {
   "cell_type": "code",
   "execution_count": 83,
   "metadata": {
    "collapsed": false,
    "scrolled": false
   },
   "outputs": [
    {
     "name": "stdout",
     "output_type": "stream",
     "text": [
      "torch.Size([30, 100])\n",
      "torch.Size([60, 100])\n",
      "0\n",
      "10\n",
      "20\n",
      "30\n",
      "40\n",
      "50\n",
      "60\n",
      "70\n",
      "80\n",
      "90\n"
     ]
    }
   ],
   "source": [
    "# Verify implementation\n",
    "q1 = X_train_q1[0].squeeze()\n",
    "q2 = X_train_q2[0].squeeze()\n",
    "print(q1.size())\n",
    "\n",
    "q1_mean = q1.mean(dim=0)\n",
    "q2_mean = q2.mean(dim=0)\n",
    "base_diff = (q1_mean - q2_mean).abs()\n",
    "len_q1 = q1.size(0)\n",
    "len_q2 = q2.size(0)\n",
    "sum_len = len_q1 + len_q2\n",
    "\n",
    "q1q2 = torch.cat([q1, q2], 0)\n",
    "print(q1q2.size())\n",
    "n_permutes = 400\n",
    "for trial in xrange(100):\n",
    "    running_diff = Variable(torch.zeros(100))\n",
    "    if trial % 10 == 0:\n",
    "        print(trial)\n",
    "    for t in xrange(n_permutes):\n",
    "        perm = torch.randperm(sum_len)\n",
    "        qs1 = q1q2[perm[:len_q1]]\n",
    "        qs2 = q1q2[perm[len_q1:]]\n",
    "        qs1_mean = qs1.mean(dim=0)\n",
    "        qs2_mean = qs2.mean(dim=0)\n",
    "        diff = (qs1_mean - qs2_mean).abs()\n",
    "        running_diff.add_((diff > base_diff).squeeze().float())\n",
    "\n",
    "    val = (running_diff / n_permutes)\n",
    "    verification.append(val[10:20].data.numpy())"
   ]
  },
  {
   "cell_type": "code",
   "execution_count": 112,
   "metadata": {
    "collapsed": false
   },
   "outputs": [
    {
     "data": {
      "image/png": "[encoded data removed]",
      "text/plain": [
       "<matplotlib.figure.Figure at 0x7fbb14d73350>"
      ]
     },
     "metadata": {
      "image/png": {
       "height": 367,
       "width": 523
      }
     },
     "output_type": "display_data"
    }
   ],
   "source": [
    "veri_np2 = np.stack(verification)\n",
    "veri_all = np.concatenate([veri_np2, veri_np * 5])\n",
    "diffe = np.stack(differentiable_results)\n",
    "plt.figure()\n",
    "\n",
    "col = 9\n",
    "plt.title('Permute module results')\n",
    "plt.hist(from_md_nps[:,col], 10, alpha=0.6, normed=True, label='module, non-differentiable')\n",
    "plt.hist(veri_all[:,col], 10, alpha=0.6, normed=True, label='slow verification')\n",
    "plt.hist(diffe[:,col], 10, alpha=0.6, normed=True, label='module, differentiable')\n",
    "plt.axvline(x=from_md_nps[:,col].mean(), color='blue')\n",
    "plt.axvline(x=veri_all[:,col].mean(), color='orange')\n",
    "plt.axvline(x=diffe[:,col].mean(), color='green')\n",
    "plt.legend(loc='best')\n",
    "plt.xlim(0, 1)\n",
    "plt.show()"
   ]
  },
  {
   "cell_type": "code",
   "execution_count": 260,
   "metadata": {
    "collapsed": true
   },
   "outputs": [],
   "source": [
    "X_train_permuted = features.permute(X_train_q1, X_train_q2, batch_size=100)"
   ]
  },
  {
   "cell_type": "code",
   "execution_count": 261,
   "metadata": {
    "collapsed": false
   },
   "outputs": [
    {
     "data": {
      "text/plain": [
       "torch.Size([20000, 100])"
      ]
     },
     "execution_count": 261,
     "metadata": {},
     "output_type": "execute_result"
    }
   ],
   "source": [
    "train_permuted.size()"
   ]
  },
  {
   "cell_type": "code",
   "execution_count": 262,
   "metadata": {
    "collapsed": true
   },
   "outputs": [],
   "source": [
    "valid_permuted = features.permute(vectorized_valid, distance='absolute', n_trials=500)"
   ]
  },
  {
   "cell_type": "code",
   "execution_count": null,
   "metadata": {
    "collapsed": true
   },
   "outputs": [],
   "source": []
  }
 ],
 "metadata": {
  "anaconda-cloud": {},
  "kernelspec": {
   "display_name": "Python [python2]",
   "language": "python",
   "name": "Python [python2]"
  },
  "language_info": {
   "codemirror_mode": {
    "name": "ipython",
    "version": 2
   },
   "file_extension": ".py",
   "mimetype": "text/x-python",
   "name": "python",
   "nbconvert_exporter": "python",
   "pygments_lexer": "ipython2",
   "version": "2.7.13"
  }
 },
 "nbformat": 4,
 "nbformat_minor": 0
}
