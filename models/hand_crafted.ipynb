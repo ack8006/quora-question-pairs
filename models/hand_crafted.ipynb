{
 "cells": [
  {
   "cell_type": "code",
   "execution_count": 3,
   "metadata": {
    "collapsed": false,
    "deletable": true,
    "editable": true
   },
   "outputs": [],
   "source": [
    "import functools\n",
    "import pickle as pkl\n",
    "\n",
    "import numpy as np\n",
    "import pandas as pd\n",
    "import torch\n",
    "import nltk\n",
    "from nltk.tokenize import word_tokenize\n",
    "import matplotlib.pyplot as plt\n",
    "\n",
    "import sys\n",
    "sys.path.append('../utils/')\n",
    "from data import TacoText\n",
    "from preprocess import load_data, clean_and_tokenize\n",
    "from pipeline import pipeline\n",
    "\n",
    "from sklearn import preprocessing\n",
    "from sklearn.tree import DecisionTreeClassifier\n",
    "from sklearn.ensemble import RandomForestClassifier\n",
    "from sklearn.svm import SVC\n",
    "\n",
    "from sklearn.metrics import log_loss\n",
    "from scipy.spatial.distance import cosine, cityblock, jaccard, canberra, euclidean, minkowski, braycurtis\n",
    "\n",
    "%matplotlib inline"
   ]
  },
  {
   "cell_type": "code",
   "execution_count": 2,
   "metadata": {
    "collapsed": false,
    "deletable": true,
    "editable": true
   },
   "outputs": [],
   "source": [
    "train_data = pd.read_csv('../data/train.csv')\n",
    "train_data = train_data.reindex(np.random.permutation(train_data.index))\n",
    "val_data = train_data.iloc[int(len(train_data) * 0.9):]\n",
    "train_data = train_data.iloc[:int(len(train_data) * 0.9)]"
   ]
  },
  {
   "cell_type": "code",
   "execution_count": 12,
   "metadata": {
    "collapsed": true,
    "deletable": true,
    "editable": true
   },
   "outputs": [],
   "source": [
    "pipe = functools.partial(pipeline, \n",
    "                        rm_stop_words=1, \n",
    "                        rm_punc=True, \n",
    "                        number_token=True, \n",
    "                        keep_questions=True,\n",
    "                        stemmer=None,\n",
    "                        lemmatizer=None)"
   ]
  },
  {
   "cell_type": "code",
   "execution_count": 62,
   "metadata": {
    "collapsed": true,
    "deletable": true,
    "editable": true
   },
   "outputs": [],
   "source": [
    "pipe = functools.partial(pipeline, \n",
    "                        rm_stop_words=0, \n",
    "                        rm_punc=False, \n",
    "                        number_token=False, \n",
    "                        keep_questions=True,\n",
    "                        stemmer=None,\n",
    "                        lemmatizer=None)"
   ]
  },
  {
   "cell_type": "code",
   "execution_count": 65,
   "metadata": {
    "collapsed": true,
    "deletable": true,
    "editable": true
   },
   "outputs": [],
   "source": [
    "pipe = None"
   ]
  },
  {
   "cell_type": "code",
   "execution_count": 13,
   "metadata": {
    "collapsed": false,
    "deletable": true,
    "editable": true
   },
   "outputs": [],
   "source": [
    "corpus = TacoText(50000, lower=True, vocab_pipe=pipe)"
   ]
  },
  {
   "cell_type": "code",
   "execution_count": 6,
   "metadata": {
    "collapsed": false,
    "deletable": true,
    "editable": true
   },
   "outputs": [],
   "source": [
    "q1, q2, y = clean_and_tokenize(train_data, corpus)"
   ]
  },
  {
   "cell_type": "code",
   "execution_count": 7,
   "metadata": {
    "collapsed": false,
    "deletable": true,
    "editable": true
   },
   "outputs": [],
   "source": [
    "q1_val, q2_val, y_val = clean_and_tokenize(val_data, corpus)"
   ]
  },
  {
   "cell_type": "markdown",
   "metadata": {
    "deletable": true,
    "editable": true
   },
   "source": [
    "* WC1\n",
    "* WC2\n",
    "* abs(WC1-WC2)\n",
    "* num_words in common\n",
    "* jaccard_similarity\n",
    "* w1 pct overlap\n",
    "* w2 pct overlap\n",
    "* Num Stop Words\n",
    "* start word Who, What, When, Where, Why, How, Which"
   ]
  },
  {
   "cell_type": "code",
   "execution_count": 94,
   "metadata": {
    "collapsed": false,
    "deletable": true,
    "editable": true
   },
   "outputs": [],
   "source": [
    "def feature_gen(x, stopwords):\n",
    "    f = []\n",
    "    f.append(abs(len(x[0]) - len(x[1])))  #WCDifference\n",
    "    wic = set(x[0]).intersection(set(x[1]))\n",
    "    uw = set(x[0]).union(set(x[1]))\n",
    "    \n",
    "    wic_sw = len([w for w in wic if w not in stopwords])\n",
    "    uw_sw = len([w for w in uw if w not in stopwords])\n",
    "    if uw_sw < 1:\n",
    "        uw_sw = 0\n",
    "    f.append(wic_sw/uw_sw)\n",
    "    \n",
    "    uw = len(uw)\n",
    "    wic = len(wic)\n",
    "    f.append(wic) #NumWordsInCommon\n",
    "    f.append(uw) #Num unique words\n",
    "    f.append(wic/uw) #Jaccard\n",
    "    f.append(f[3]/len(set(x[0])))  #Pct Overlap Q1\n",
    "    f.append(int((f[3]/len(set(x[0]))) < 0.1))\n",
    "    f.append(int((f[3]/len(set(x[0]))) < 0.2))\n",
    "    f.append(int((f[3]/len(set(x[0]))) < 0.3))\n",
    "    f.append(int((f[3]/len(set(x[0]))) < 0.4))\n",
    "    f.append(int((f[3]/len(set(x[0]))) < 0.5))\n",
    "    f.append(f[3]/len(set(x[1])))  #Pct Overlap Q2\n",
    "    f.append(int((f[3]/len(set(x[1]))) < 0.1))\n",
    "    f.append(int((f[3]/len(set(x[1]))) < 0.2))\n",
    "    f.append(int((f[3]/len(set(x[1]))) < 0.3))\n",
    "    f.append(int((f[3]/len(set(x[1]))) < 0.4))\n",
    "    f.append(int((f[3]/len(set(x[1]))) < 0.5))\n",
    "    f.append(int((wic/uw) < 0.1))\n",
    "    f.append(int((wic/uw) < 0.2))\n",
    "    f.append(int((wic/uw) < 0.3))\n",
    "    f.append(int((wic/uw) < 0.4))\n",
    "    f.append(int((wic/uw) < 0.5))\n",
    "    f.append(int(x[0][0].lower() == x[1][0].lower()))\n",
    "#     for q in ('who','what','when','where','why','how','which'):\n",
    "#         f.append(int(x[0][0].lower() == q))\n",
    "#         f.append(int(x[1][0].lower() == q))\n",
    "    return f"
   ]
  },
  {
   "cell_type": "code",
   "execution_count": 95,
   "metadata": {
    "collapsed": true,
    "deletable": true,
    "editable": true
   },
   "outputs": [],
   "source": [
    "# cols = ('WC1','WC2',\n",
    "cols = ('WCDiff','NumCommon','Unique','Jaccard','pctOverlap1','pct1_01','pct1_02','pct1_03','pct1_04',\n",
    "        'pct1_05','pctOverlap2','pct2_01','pct2_02','pct2_03','pct2_04','pct2_05','jac01',\n",
    "        'jac02','jac03','jac04','jac05','same_start')\n",
    "        #,'who1','who2','what1','what2','when1','when2','where1','where2','why1','why2','how1','how2','which1','which2')"
   ]
  },
  {
   "cell_type": "code",
   "execution_count": 69,
   "metadata": {
    "collapsed": true,
    "deletable": true,
    "editable": true
   },
   "outputs": [],
   "source": [
    "train_X = list(map(feature_gen, zip(q1, q2)))\n",
    "val_X = list(map(feature_gen, zip(q1_val, q2_val)))"
   ]
  },
  {
   "cell_type": "code",
   "execution_count": 76,
   "metadata": {
    "collapsed": false,
    "deletable": true,
    "editable": true
   },
   "outputs": [],
   "source": [
    "scalar = preprocessing.StandardScaler()\n",
    "train_X = scalar.fit_transform(train_X)\n",
    "val_X = scalar.transform(val_X)"
   ]
  },
  {
   "cell_type": "code",
   "execution_count": 82,
   "metadata": {
    "collapsed": false,
    "deletable": true,
    "editable": true
   },
   "outputs": [
    {
     "data": {
      "text/plain": [
       "DecisionTreeClassifier(class_weight=None, criterion='gini', max_depth=None,\n",
       "            max_features=None, max_leaf_nodes=None,\n",
       "            min_impurity_split=1e-07, min_samples_leaf=1,\n",
       "            min_samples_split=2, min_weight_fraction_leaf=0.0,\n",
       "            presort=False, random_state=42, splitter='best')"
      ]
     },
     "execution_count": 82,
     "metadata": {},
     "output_type": "execute_result"
    }
   ],
   "source": [
    "clf = DecisionTreeClassifier(random_state=42)\n",
    "clf.fit(train_X, y)"
   ]
  },
  {
   "cell_type": "code",
   "execution_count": 1,
   "metadata": {
    "collapsed": false,
    "deletable": true,
    "editable": true
   },
   "outputs": [
    {
     "ename": "NameError",
     "evalue": "name 'RandomForestClassifier' is not defined",
     "output_type": "error",
     "traceback": [
      "\u001b[0;31m---------------------------------------------------------------------------\u001b[0m",
      "\u001b[0;31mNameError\u001b[0m                                 Traceback (most recent call last)",
      "\u001b[0;32m<ipython-input-1-1c32bcaec566>\u001b[0m in \u001b[0;36m<module>\u001b[0;34m()\u001b[0m\n\u001b[0;32m----> 1\u001b[0;31m \u001b[0mrclf\u001b[0m \u001b[0;34m=\u001b[0m \u001b[0mRandomForestClassifier\u001b[0m\u001b[0;34m(\u001b[0m\u001b[0mrandom_state\u001b[0m\u001b[0;34m=\u001b[0m\u001b[0;36m42\u001b[0m\u001b[0;34m)\u001b[0m\u001b[0;34m\u001b[0m\u001b[0m\n\u001b[0m\u001b[1;32m      2\u001b[0m \u001b[0mrclf\u001b[0m\u001b[0;34m.\u001b[0m\u001b[0mfit\u001b[0m\u001b[0;34m(\u001b[0m\u001b[0mtrain_X\u001b[0m\u001b[0;34m,\u001b[0m \u001b[0my\u001b[0m\u001b[0;34m)\u001b[0m\u001b[0;34m\u001b[0m\u001b[0m\n\u001b[1;32m      3\u001b[0m \u001b[0;34m\u001b[0m\u001b[0m\n\u001b[1;32m      4\u001b[0m \u001b[0mprint\u001b[0m\u001b[0;34m(\u001b[0m\u001b[0mrclf\u001b[0m\u001b[0;34m.\u001b[0m\u001b[0mscore\u001b[0m\u001b[0;34m(\u001b[0m\u001b[0mtrain_X\u001b[0m\u001b[0;34m,\u001b[0m \u001b[0my\u001b[0m\u001b[0;34m)\u001b[0m\u001b[0;34m)\u001b[0m\u001b[0;34m\u001b[0m\u001b[0m\n\u001b[1;32m      5\u001b[0m \u001b[0mprint\u001b[0m\u001b[0;34m(\u001b[0m\u001b[0mrclf\u001b[0m\u001b[0;34m.\u001b[0m\u001b[0mscore\u001b[0m\u001b[0;34m(\u001b[0m\u001b[0mval_X\u001b[0m\u001b[0;34m,\u001b[0m \u001b[0my_val\u001b[0m\u001b[0;34m)\u001b[0m\u001b[0;34m)\u001b[0m\u001b[0;34m\u001b[0m\u001b[0m\n",
      "\u001b[0;31mNameError\u001b[0m: name 'RandomForestClassifier' is not defined"
     ]
    }
   ],
   "source": [
    "rclf = RandomForestClassifier(random_state=42)\n",
    "rclf.fit(train_X, y)\n",
    "\n",
    "print(rclf.score(train_X, y))\n",
    "print(rclf.score(val_X, y_val))"
   ]
  },
  {
   "cell_type": "code",
   "execution_count": 94,
   "metadata": {
    "collapsed": false,
    "deletable": true,
    "editable": true
   },
   "outputs": [
    {
     "data": {
      "text/plain": [
       "0.62996858690543922"
      ]
     },
     "execution_count": 94,
     "metadata": {},
     "output_type": "execute_result"
    }
   ],
   "source": [
    "1-(sum(y_val)/len(y_val))"
   ]
  },
  {
   "cell_type": "code",
   "execution_count": null,
   "metadata": {
    "collapsed": true,
    "deletable": true,
    "editable": true
   },
   "outputs": [],
   "source": []
  },
  {
   "cell_type": "code",
   "execution_count": 96,
   "metadata": {
    "collapsed": true,
    "deletable": true,
    "editable": true
   },
   "outputs": [],
   "source": [
    "X_train2 = list(map(feature_gen, zip(q1, q2)))\n",
    "X_val2 = list(map(feature_gen, zip(q1_val, q2_val)))"
   ]
  },
  {
   "cell_type": "code",
   "execution_count": 97,
   "metadata": {
    "collapsed": false,
    "deletable": true,
    "editable": true
   },
   "outputs": [],
   "source": [
    "scalar = preprocessing.StandardScaler()\n",
    "X_train2 = scalar.fit_transform(X_train2)\n",
    "X_val2 = scalar.transform(X_val2)"
   ]
  },
  {
   "cell_type": "code",
   "execution_count": 100,
   "metadata": {
    "collapsed": false,
    "deletable": true,
    "editable": true
   },
   "outputs": [
    {
     "data": {
      "text/plain": [
       "DecisionTreeClassifier(class_weight=None, criterion='gini', max_depth=None,\n",
       "            max_features=None, max_leaf_nodes=None,\n",
       "            min_impurity_split=1e-07, min_samples_leaf=1,\n",
       "            min_samples_split=2, min_weight_fraction_leaf=0.0,\n",
       "            presort=False, random_state=42, splitter='best')"
      ]
     },
     "execution_count": 100,
     "metadata": {},
     "output_type": "execute_result"
    }
   ],
   "source": [
    "clf = DecisionTreeClassifier(random_state=42)\n",
    "clf.fit(X_train2, y)\n",
    "\n",
    "print(clf.score(X_train2, y))\n",
    "print(clf.score(X_val2, y_val))"
   ]
  },
  {
   "cell_type": "code",
   "execution_count": null,
   "metadata": {
    "collapsed": true,
    "deletable": true,
    "editable": true
   },
   "outputs": [],
   "source": []
  },
  {
   "cell_type": "code",
   "execution_count": 103,
   "metadata": {
    "collapsed": false,
    "deletable": true,
    "editable": true
   },
   "outputs": [
    {
     "name": "stdout",
     "output_type": "stream",
     "text": [
      "0.73069936047\n",
      "0.693240000989\n"
     ]
    }
   ],
   "source": [
    "rclf = RandomForestClassifier(random_state=42)\n",
    "rclf.fit(X_train2, y)\n",
    "\n",
    "print(rclf.score(X_train2, y))\n",
    "print(rclf.score(X_val2, y_val))"
   ]
  },
  {
   "cell_type": "code",
   "execution_count": null,
   "metadata": {
    "collapsed": true,
    "deletable": true,
    "editable": true
   },
   "outputs": [],
   "source": []
  },
  {
   "cell_type": "code",
   "execution_count": 20,
   "metadata": {
    "collapsed": true,
    "deletable": true,
    "editable": true
   },
   "outputs": [],
   "source": [
    "X_train3 = list(map(feature_gen, zip(q1, q2)))\n",
    "X_val3 = list(map(feature_gen, zip(q1_val, q2_val)))\n",
    "\n",
    "scalar = preprocessing.StandardScaler()\n",
    "X_train3 = scalar.fit_transform(X_train3)\n",
    "X_val3 = scalar.transform(X_val3)\n",
    "\n",
    "clf = DecisionTreeClassifier(random_state=42)\n",
    "clf.fit(X_train3, y)\n",
    "\n",
    "print(clf.score(X_train3, y))\n",
    "print(clf.score(X_val3, y_val))\n",
    "\n",
    "print(log_loss(y, clf.predict_proba(X_train3)))\n",
    "print(log_loss(y_val, clf.predict_proba(X_val3)))"
   ]
  },
  {
   "cell_type": "code",
   "execution_count": 110,
   "metadata": {
    "collapsed": false,
    "deletable": true,
    "editable": true
   },
   "outputs": [
    {
     "name": "stdout",
     "output_type": "stream",
     "text": [
      "0.799783433784\n",
      "0.705434218012\n"
     ]
    }
   ],
   "source": [
    "rclf = RandomForestClassifier(random_state=42)\n",
    "rclf.fit(X_train3, y)\n",
    "\n",
    "print(rclf.score(X_train3, y))\n",
    "print(rclf.score(X_val3, y_val))\n",
    "\n",
    "print(log_loss(y, rclf.predict_proba(X_train3)))\n",
    "print(log_loss(y_val, rclf.predict_proba(X_val3)))"
   ]
  },
  {
   "cell_type": "code",
   "execution_count": null,
   "metadata": {
    "collapsed": true,
    "deletable": true,
    "editable": true
   },
   "outputs": [],
   "source": [
    "svm = SVC()\n",
    "svm.fit(X_train3, y)"
   ]
  },
  {
   "cell_type": "code",
   "execution_count": null,
   "metadata": {
    "collapsed": true,
    "deletable": true,
    "editable": true
   },
   "outputs": [],
   "source": [
    "print(svm.score(X_train3, y))\n",
    "print(svm.score(X_val3, y_val))"
   ]
  },
  {
   "cell_type": "code",
   "execution_count": null,
   "metadata": {
    "collapsed": true,
    "deletable": true,
    "editable": true
   },
   "outputs": [],
   "source": []
  },
  {
   "cell_type": "code",
   "execution_count": 96,
   "metadata": {
    "collapsed": false,
    "deletable": true,
    "editable": true
   },
   "outputs": [],
   "source": [
    "X_train3 = list(map(feature_gen, zip(q1, q2)))\n",
    "X_val3 = list(map(feature_gen, zip(q1_val, q2_val)))"
   ]
  },
  {
   "cell_type": "code",
   "execution_count": 89,
   "metadata": {
    "collapsed": true,
    "deletable": true,
    "editable": true
   },
   "outputs": [],
   "source": [
    "scalar = preprocessing.StandardScaler()\n",
    "X_train3 = scalar.fit_transform(X_train3)\n",
    "X_val3 = scalar.transform(X_val3)"
   ]
  },
  {
   "cell_type": "code",
   "execution_count": 104,
   "metadata": {
    "collapsed": false,
    "deletable": true,
    "editable": true
   },
   "outputs": [
    {
     "data": {
      "text/plain": [
       "2"
      ]
     },
     "execution_count": 104,
     "metadata": {},
     "output_type": "execute_result"
    }
   ],
   "source": [
    "np.max([1,2])"
   ]
  },
  {
   "cell_type": "code",
   "execution_count": 99,
   "metadata": {
    "collapsed": false,
    "deletable": true,
    "editable": true
   },
   "outputs": [],
   "source": [
    "df = pd.DataFrame(data=X_train3, columns=cols)\n",
    "df['y'] = y"
   ]
  },
  {
   "cell_type": "code",
   "execution_count": 105,
   "metadata": {
    "collapsed": true,
    "deletable": true,
    "editable": true
   },
   "outputs": [],
   "source": [
    "import torch"
   ]
  },
  {
   "cell_type": "code",
   "execution_count": 110,
   "metadata": {
    "collapsed": false,
    "deletable": true,
    "editable": true
   },
   "outputs": [],
   "source": [
    "X = torch.Tensor(5, 1, 2, 10).long()"
   ]
  },
  {
   "cell_type": "code",
   "execution_count": 121,
   "metadata": {
    "collapsed": false,
    "deletable": true,
    "editable": true
   },
   "outputs": [
    {
     "ename": "RuntimeError",
     "evalue": "inconsistent tensor size at /Users/soumith/miniconda2/conda-bld/pytorch_1490983738462/work/torch/lib/TH/generic/THTensorCopy.c:50",
     "output_type": "error",
     "traceback": [
      "\u001b[0;31m---------------------------------------------------------------------------\u001b[0m",
      "\u001b[0;31mRuntimeError\u001b[0m                              Traceback (most recent call last)",
      "\u001b[0;32m<ipython-input-121-bce2126232e4>\u001b[0m in \u001b[0;36m<module>\u001b[0;34m()\u001b[0m\n\u001b[1;32m      1\u001b[0m \u001b[0ma\u001b[0m \u001b[0;34m=\u001b[0m \u001b[0mnp\u001b[0m\u001b[0;34m.\u001b[0m\u001b[0marray\u001b[0m\u001b[0;34m(\u001b[0m\u001b[0;34m[\u001b[0m\u001b[0;36m1\u001b[0m\u001b[0;34m,\u001b[0m\u001b[0;36m2\u001b[0m\u001b[0;34m,\u001b[0m\u001b[0;36m3\u001b[0m\u001b[0;34m]\u001b[0m\u001b[0;34m)\u001b[0m\u001b[0;34m\u001b[0m\u001b[0m\n\u001b[1;32m      2\u001b[0m \u001b[0ma\u001b[0m \u001b[0;34m=\u001b[0m \u001b[0mtorch\u001b[0m\u001b[0;34m.\u001b[0m\u001b[0mfrom_numpy\u001b[0m\u001b[0;34m(\u001b[0m\u001b[0ma\u001b[0m\u001b[0;34m)\u001b[0m\u001b[0;34m\u001b[0m\u001b[0m\n\u001b[0;32m----> 3\u001b[0;31m \u001b[0mX\u001b[0m\u001b[0;34m[\u001b[0m\u001b[0;36m0\u001b[0m\u001b[0;34m,\u001b[0m\u001b[0;36m0\u001b[0m\u001b[0;34m,\u001b[0m\u001b[0;36m0\u001b[0m\u001b[0;34m,\u001b[0m\u001b[0;34m:\u001b[0m\u001b[0;34m]\u001b[0m \u001b[0;34m=\u001b[0m \u001b[0ma\u001b[0m\u001b[0;34m\u001b[0m\u001b[0m\n\u001b[0m",
      "\u001b[0;31mRuntimeError\u001b[0m: inconsistent tensor size at /Users/soumith/miniconda2/conda-bld/pytorch_1490983738462/work/torch/lib/TH/generic/THTensorCopy.c:50"
     ]
    }
   ],
   "source": [
    "a = np.array([1,2,3])\n",
    "a = torch.from_numpy(a)\n",
    "X[0,0,0,:3] = a"
   ]
  },
  {
   "cell_type": "code",
   "execution_count": 123,
   "metadata": {
    "collapsed": false,
    "deletable": true,
    "editable": true
   },
   "outputs": [
    {
     "data": {
      "text/plain": [
       "(2, 3)"
      ]
     },
     "execution_count": 123,
     "metadata": {},
     "output_type": "execute_result"
    }
   ],
   "source": [
    "np.array([[1,2,3],[4,5,6]]).shape"
   ]
  },
  {
   "cell_type": "code",
   "execution_count": 97,
   "metadata": {
    "collapsed": false,
    "deletable": true,
    "editable": true,
    "scrolled": false
   },
   "outputs": [
    {
     "data": {
      "text/plain": [
       "('WCDiff',\n",
       " 'NumCommon',\n",
       " 'Unique',\n",
       " 'Jaccard',\n",
       " 'pctOverlap1',\n",
       " 'pct1_01',\n",
       " 'pct1_02',\n",
       " 'pct1_03',\n",
       " 'pct1_04',\n",
       " 'pct1_05',\n",
       " 'pctOverlap2',\n",
       " 'pct2_01',\n",
       " 'pct2_02',\n",
       " 'pct2_03',\n",
       " 'pct2_04',\n",
       " 'pct2_05',\n",
       " 'jac01',\n",
       " 'jac02',\n",
       " 'jac03',\n",
       " 'jac04',\n",
       " 'jac05',\n",
       " 'same_start')"
      ]
     },
     "execution_count": 97,
     "metadata": {},
     "output_type": "execute_result"
    }
   ],
   "source": [
    "cols"
   ]
  },
  {
   "cell_type": "code",
   "execution_count": 88,
   "metadata": {
    "collapsed": false,
    "deletable": true,
    "editable": true
   },
   "outputs": [
    {
     "data": {
      "text/plain": [
       "<matplotlib.legend.Legend at 0x1447496a0>"
      ]
     },
     "execution_count": 88,
     "metadata": {},
     "output_type": "execute_result"
    },
    {
     "data": {
      "image/png": "[encoded data removed]",
      "text/plain": [
       "<matplotlib.figure.Figure at 0x144749828>"
      ]
     },
     "metadata": {},
     "output_type": "display_data"
    }
   ],
   "source": [
    "plt.hist(df[(df['y'] == 0)]['NumCommon'], bins=25, label='Not Dup', alpha=0.7)\n",
    "plt.hist(df[df['y'] == 1]['NumCommon'], bins=25, label='Dup', alpha=0.7)\n",
    "plt.xlim(0,20)\n",
    "plt.legend()"
   ]
  },
  {
   "cell_type": "code",
   "execution_count": 61,
   "metadata": {
    "collapsed": false,
    "deletable": true,
    "editable": true
   },
   "outputs": [
    {
     "data": {
      "text/plain": [
       "<matplotlib.legend.Legend at 0x11f917470>"
      ]
     },
     "execution_count": 61,
     "metadata": {},
     "output_type": "execute_result"
    },
    {
     "data": {
      "image/png": "[encoded data removed]",
      "text/plain": [
       "<matplotlib.figure.Figure at 0x1433ac898>"
      ]
     },
     "metadata": {},
     "output_type": "display_data"
    }
   ],
   "source": [
    "plt.hist(df[(df['y'] == 0) & (df['WCDiff'] <= 50)]['WCDiff'], bins=25, label='Not Dup', alpha=0.7)\n",
    "plt.hist(df[df['y'] == 1]['WCDiff'], bins=25, label='Dup', alpha=0.7)\n",
    "plt.xlim(0,50)\n",
    "plt.legend()"
   ]
  },
  {
   "cell_type": "code",
   "execution_count": 65,
   "metadata": {
    "collapsed": false,
    "deletable": true,
    "editable": true
   },
   "outputs": [
    {
     "data": {
      "text/plain": [
       "<matplotlib.legend.Legend at 0x14754fc18>"
      ]
     },
     "execution_count": 65,
     "metadata": {},
     "output_type": "execute_result"
    },
    {
     "data": {
      "image/png": "[encoded data removed]",
      "text/plain": [
       "<matplotlib.figure.Figure at 0x11a53e160>"
      ]
     },
     "metadata": {},
     "output_type": "display_data"
    }
   ],
   "source": [
    "plt.hist(df[(df['y'] == 0)]['Unique'], bins=20, label='Not Dup', alpha=0.7)\n",
    "plt.hist(df[df['y'] == 1]['Unique'], bins=20, label='Dup', alpha=0.7)\n",
    "plt.xlim(0,80)\n",
    "plt.legend()"
   ]
  },
  {
   "cell_type": "code",
   "execution_count": 67,
   "metadata": {
    "collapsed": false,
    "deletable": true,
    "editable": true
   },
   "outputs": [
    {
     "data": {
      "text/plain": [
       "<matplotlib.legend.Legend at 0x148a65588>"
      ]
     },
     "execution_count": 67,
     "metadata": {},
     "output_type": "execute_result"
    },
    {
     "data": {
      "image/png": "[encoded data removed]",
      "text/plain": [
       "<matplotlib.figure.Figure at 0x148a655c0>"
      ]
     },
     "metadata": {},
     "output_type": "display_data"
    }
   ],
   "source": [
    "plt.hist(df[(df['y'] == 0)]['pctOverlap1'], bins=20, label='Not Dup', alpha=0.7)\n",
    "plt.hist(df[df['y'] == 1]['pctOverlap1'], bins=20, label='Dup', alpha=0.7)\n",
    "plt.xlim(0,1)\n",
    "plt.legend()"
   ]
  },
  {
   "cell_type": "code",
   "execution_count": 68,
   "metadata": {
    "collapsed": false,
    "deletable": true,
    "editable": true
   },
   "outputs": [
    {
     "data": {
      "text/plain": [
       "<matplotlib.legend.Legend at 0x14766d048>"
      ]
     },
     "execution_count": 68,
     "metadata": {},
     "output_type": "execute_result"
    },
    {
     "data": {
      "image/png": "[encoded data removed]",
      "text/plain": [
       "<matplotlib.figure.Figure at 0x12153ea58>"
      ]
     },
     "metadata": {},
     "output_type": "display_data"
    }
   ],
   "source": [
    "plt.hist(df[(df['y'] == 0)]['pctOverlap2'], bins=20, label='Not Dup', alpha=0.7)\n",
    "plt.hist(df[df['y'] == 1]['pctOverlap2'], bins=20, label='Dup', alpha=0.7)\n",
    "plt.xlim(0,1)\n",
    "plt.legend()"
   ]
  },
  {
   "cell_type": "code",
   "execution_count": 62,
   "metadata": {
    "collapsed": false,
    "deletable": true,
    "editable": true
   },
   "outputs": [
    {
     "data": {
      "text/plain": [
       "<matplotlib.legend.Legend at 0x1471eef60>"
      ]
     },
     "execution_count": 62,
     "metadata": {},
     "output_type": "execute_result"
    },
    {
     "data": {
      "image/png": "[encoded data removed]",
      "text/plain": [
       "<matplotlib.figure.Figure at 0x1471ee240>"
      ]
     },
     "metadata": {},
     "output_type": "display_data"
    }
   ],
   "source": [
    "plt.hist(df[(df['y'] == 0)]['Jaccard'], bins=10, label='Not Dup', alpha=0.7)\n",
    "plt.hist(df[df['y'] == 1]['Jaccard'], bins=10, label='Dup', alpha=0.7)\n",
    "plt.legend()"
   ]
  },
  {
   "cell_type": "code",
   "execution_count": 81,
   "metadata": {
    "collapsed": false,
    "deletable": true,
    "editable": true
   },
   "outputs": [
    {
     "data": {
      "text/plain": [
       "<matplotlib.legend.Legend at 0x143a6a828>"
      ]
     },
     "execution_count": 81,
     "metadata": {},
     "output_type": "execute_result"
    },
    {
     "data": {
      "image/png": "[encoded data removed]",
      "text/plain": [
       "<matplotlib.figure.Figure at 0x143a6aa20>"
      ]
     },
     "metadata": {},
     "output_type": "display_data"
    }
   ],
   "source": [
    "plt.hist(df[(df['y'] == 0)]['jac01'], bins=2, label='Not Dup', alpha=0.5)\n",
    "plt.hist(df[df['y'] == 1]['jac01'], bins=2, label='Dup', alpha=1.0)\n",
    "plt.legend()"
   ]
  },
  {
   "cell_type": "code",
   "execution_count": 82,
   "metadata": {
    "collapsed": false,
    "deletable": true,
    "editable": true
   },
   "outputs": [
    {
     "data": {
      "text/plain": [
       "<matplotlib.legend.Legend at 0x14413c710>"
      ]
     },
     "execution_count": 82,
     "metadata": {},
     "output_type": "execute_result"
    },
    {
     "data": {
      "image/png": "[encoded data removed]",
      "text/plain": [
       "<matplotlib.figure.Figure at 0x148f52ef0>"
      ]
     },
     "metadata": {},
     "output_type": "display_data"
    }
   ],
   "source": [
    "plt.hist(df[(df['y'] == 0)]['jac02'], bins=2, label='Not Dup', alpha=0.5)\n",
    "plt.hist(df[df['y'] == 1]['jac02'], bins=2, label='Dup', alpha=1.0)\n",
    "plt.legend()"
   ]
  },
  {
   "cell_type": "code",
   "execution_count": 84,
   "metadata": {
    "collapsed": false,
    "deletable": true,
    "editable": true
   },
   "outputs": [
    {
     "data": {
      "text/plain": [
       "<matplotlib.legend.Legend at 0x1444482b0>"
      ]
     },
     "execution_count": 84,
     "metadata": {},
     "output_type": "execute_result"
    },
    {
     "data": {
      "image/png": "[encoded data removed]",
      "text/plain": [
       "<matplotlib.figure.Figure at 0x144448080>"
      ]
     },
     "metadata": {},
     "output_type": "display_data"
    }
   ],
   "source": [
    "plt.hist(df[(df['y'] == 0)]['jac03'], bins=2, label='Not Dup', alpha=0.5)\n",
    "plt.hist(df[df['y'] == 1]['jac03'], bins=2, label='Dup', alpha=0.5)\n",
    "plt.legend()"
   ]
  },
  {
   "cell_type": "code",
   "execution_count": 85,
   "metadata": {
    "collapsed": false,
    "deletable": true,
    "editable": true
   },
   "outputs": [
    {
     "data": {
      "text/plain": [
       "<matplotlib.legend.Legend at 0x144554cf8>"
      ]
     },
     "execution_count": 85,
     "metadata": {},
     "output_type": "execute_result"
    },
    {
     "data": {
      "image/png": "[encoded data removed]",
      "text/plain": [
       "<matplotlib.figure.Figure at 0x148f3cba8>"
      ]
     },
     "metadata": {},
     "output_type": "display_data"
    }
   ],
   "source": [
    "plt.hist(df[(df['y'] == 0)]['jac05'], bins=2, label='Not Dup', alpha=0.5)\n",
    "plt.hist(df[df['y'] == 1]['jac05'], bins=2, label='Dup', alpha=0.5)\n",
    "plt.legend()"
   ]
  },
  {
   "cell_type": "code",
   "execution_count": 100,
   "metadata": {
    "collapsed": false,
    "deletable": true,
    "editable": true
   },
   "outputs": [
    {
     "data": {
      "text/plain": [
       "<matplotlib.legend.Legend at 0x1444be518>"
      ]
     },
     "execution_count": 100,
     "metadata": {},
     "output_type": "execute_result"
    },
    {
     "data": {
      "image/png": "[encoded data removed]",
      "text/plain": [
       "<matplotlib.figure.Figure at 0x1444be978>"
      ]
     },
     "metadata": {},
     "output_type": "display_data"
    }
   ],
   "source": [
    "plt.hist(df[(df['y'] == 0)]['same_start'], bins=2, label='Not Dup', alpha=0.5)\n",
    "plt.hist(df[df['y'] == 1]['same_start'], bins=2, label='Dup', alpha=0.5)\n",
    "plt.legend()"
   ]
  },
  {
   "cell_type": "code",
   "execution_count": 90,
   "metadata": {
    "collapsed": false,
    "deletable": true,
    "editable": true
   },
   "outputs": [
    {
     "name": "stdout",
     "output_type": "stream",
     "text": [
      "0.785618684058\n",
      "0.691582774741\n",
      "0.374922659765\n",
      "3.29357281779\n"
     ]
    }
   ],
   "source": [
    "clf = DecisionTreeClassifier(random_state=42)\n",
    "clf.fit(X_train3, y)\n",
    "\n",
    "print(clf.score(X_train3, y))\n",
    "print(clf.score(X_val3, y_val))\n",
    "\n",
    "print(log_loss(y, clf.predict_proba(X_train3)))\n",
    "print(log_loss(y_val, clf.predict_proba(X_val3)))"
   ]
  },
  {
   "cell_type": "code",
   "execution_count": 91,
   "metadata": {
    "collapsed": false,
    "deletable": true,
    "editable": true
   },
   "outputs": [
    {
     "data": {
      "text/plain": [
       "array([  1.53723179e-01,   4.19405715e-02,   2.53489532e-02,\n",
       "         4.06853810e-01,   1.09455112e-01,   4.51341605e-04,\n",
       "         1.42542582e-04,   0.00000000e+00,   0.00000000e+00,\n",
       "         0.00000000e+00,   9.47660952e-02,   4.50297335e-04,\n",
       "         1.14056844e-05,   0.00000000e+00,   0.00000000e+00,\n",
       "         1.76628648e-05,   4.53251835e-05,   5.61383691e-04,\n",
       "         3.45947533e-04,   8.92942358e-04,   8.26063042e-04,\n",
       "         7.80149486e-03,   6.54179849e-03,   1.59002428e-02,\n",
       "         2.63260633e-02,   5.41454066e-03,   5.40694949e-03,\n",
       "         5.78457181e-03,   5.69287223e-03,   1.33830719e-02,\n",
       "         1.20781213e-02,   2.03241514e-02,   1.71487210e-02,\n",
       "         1.08768255e-02,   1.14879416e-02])"
      ]
     },
     "execution_count": 91,
     "metadata": {},
     "output_type": "execute_result"
    }
   ],
   "source": [
    "clf.feature_importances_"
   ]
  },
  {
   "cell_type": "code",
   "execution_count": 93,
   "metadata": {
    "collapsed": false,
    "deletable": true,
    "editable": true
   },
   "outputs": [
    {
     "name": "stdout",
     "output_type": "stream",
     "text": [
      "0.781040012532\n",
      "0.695664003562\n",
      "0.404143657009\n",
      "10.5115222175\n"
     ]
    }
   ],
   "source": [
    "rclf = RandomForestClassifier(random_state=42)\n",
    "rclf.fit(X_train3, y)\n",
    "\n",
    "print(rclf.score(X_train3, y))\n",
    "print(rclf.score(X_val3, y_val))\n",
    "\n",
    "print(log_loss(y, rclf.predict_proba(X_train3)))\n",
    "print(log_loss(y_val, rclf.predict_proba(X_val3)))"
   ]
  },
  {
   "cell_type": "code",
   "execution_count": 101,
   "metadata": {
    "collapsed": false,
    "deletable": true,
    "editable": true
   },
   "outputs": [
    {
     "name": "stdout",
     "output_type": "stream",
     "text": [
      "0.723633475421\n",
      "0.685918523832\n",
      "0.484656994668\n",
      "0.82847578128\n"
     ]
    }
   ],
   "source": [
    "rclf = RandomForestClassifier(random_state=42)\n",
    "rclf.fit(X_train3, y)\n",
    "\n",
    "print(rclf.score(X_train3, y))\n",
    "print(rclf.score(X_val3, y_val))\n",
    "\n",
    "print(log_loss(y, rclf.predict_proba(X_train3)))\n",
    "print(log_loss(y_val, rclf.predict_proba(X_val3)))"
   ]
  },
  {
   "cell_type": "code",
   "execution_count": 25,
   "metadata": {
    "collapsed": false,
    "deletable": true,
    "editable": true
   },
   "outputs": [
    {
     "name": "stdout",
     "output_type": "stream",
     "text": [
      "0.800827788634\n",
      "0.692497959386\n",
      "0.348244424774\n",
      "3.81989459392\n"
     ]
    }
   ],
   "source": [
    "clf = DecisionTreeClassifier(random_state=42)\n",
    "clf.fit(X_train3, y)\n",
    "\n",
    "print(clf.score(X_train3, y))\n",
    "print(clf.score(X_val3, y_val))\n",
    "\n",
    "print(log_loss(y, clf.predict_proba(X_train3)))\n",
    "print(log_loss(y_val, clf.predict_proba(X_val3)))"
   ]
  },
  {
   "cell_type": "code",
   "execution_count": null,
   "metadata": {
    "collapsed": true,
    "deletable": true,
    "editable": true
   },
   "outputs": [],
   "source": []
  },
  {
   "cell_type": "code",
   "execution_count": null,
   "metadata": {
    "collapsed": true,
    "deletable": true,
    "editable": true
   },
   "outputs": [],
   "source": []
  },
  {
   "cell_type": "code",
   "execution_count": 199,
   "metadata": {
    "collapsed": false,
    "deletable": true,
    "editable": true
   },
   "outputs": [],
   "source": [
    "a = torch.from_numpy(np.array([[1,2,3,4.0],[5,6,9,8],[5,6,7,8]]))\n",
    "b = torch.from_numpy(np.array([[0,1,2,3.0],[7,2,9,-10], [5,6,7,8]]))"
   ]
  },
  {
   "cell_type": "code",
   "execution_count": 206,
   "metadata": {
    "collapsed": true,
    "deletable": true,
    "editable": true
   },
   "outputs": [],
   "source": [
    "from torch.autograd import Variable"
   ]
  },
  {
   "cell_type": "code",
   "execution_count": 207,
   "metadata": {
    "collapsed": true,
    "deletable": true,
    "editable": true
   },
   "outputs": [],
   "source": [
    "a = Variable(a)\n",
    "b = Variable(b)"
   ]
  },
  {
   "cell_type": "code",
   "execution_count": 210,
   "metadata": {
    "collapsed": true,
    "deletable": true,
    "editable": true
   },
   "outputs": [],
   "source": [
    "def distances(x1, x2):\n",
    "    dim1, dim2 = x1.size()\n",
    "    \n",
    "    cos_dis = Variable(torch.Tensor(dim1, 1).float())\n",
    "    for d in range(dim1):\n",
    "        norm = (torch.norm(x1[d], 2) * torch.norm(x2[d], 2))\n",
    "        cos_dis[d] = torch.dot(x1[d], x2[d]) / norm\n",
    "    \n",
    "    sum_sq = (x1-x2).pow(2).sum(1).float()\n",
    "\n",
    "    return torch.cat((cos_dis, sum_sq), 1)"
   ]
  },
  {
   "cell_type": "code",
   "execution_count": 174,
   "metadata": {
    "collapsed": false,
    "deletable": true,
    "editable": true
   },
   "outputs": [
    {
     "data": {
      "text/plain": [
       "\n",
       " 0.9759\n",
       " 0.1487\n",
       "[torch.FloatTensor of size 2x1]"
      ]
     },
     "execution_count": 174,
     "metadata": {},
     "output_type": "execute_result"
    }
   ],
   "source": [
    "cosine_similarity(a, b)"
   ]
  },
  {
   "cell_type": "code",
   "execution_count": 159,
   "metadata": {
    "collapsed": false,
    "deletable": true,
    "editable": true
   },
   "outputs": [
    {
     "data": {
      "text/plain": [
       "-0.9759000729485332"
      ]
     },
     "execution_count": 159,
     "metadata": {},
     "output_type": "execute_result"
    }
   ],
   "source": [
    "torch.dot(a[0], b[0]) / (torch.norm(a[0], p=2) * torch.norm(b[0], p=2))"
   ]
  },
  {
   "cell_type": "code",
   "execution_count": 205,
   "metadata": {
    "collapsed": false,
    "deletable": true,
    "editable": true
   },
   "outputs": [
    {
     "data": {
      "text/plain": [
       "20.493901531919196"
      ]
     },
     "execution_count": 205,
     "metadata": {},
     "output_type": "execute_result"
    }
   ],
   "source": [
    "torch.norm(a[0], 2) * torch.norm(b[0], 2)"
   ]
  },
  {
   "cell_type": "code",
   "execution_count": 178,
   "metadata": {
    "collapsed": false,
    "deletable": true,
    "editable": true
   },
   "outputs": [
    {
     "data": {
      "text/plain": [
       "\n",
       "   4\n",
       " 348\n",
       "[torch.DoubleTensor of size 2x1]"
      ]
     },
     "execution_count": 178,
     "metadata": {},
     "output_type": "execute_result"
    }
   ],
   "source": [
    "(a-b).pow(2).sum(1)"
   ]
  },
  {
   "cell_type": "code",
   "execution_count": 191,
   "metadata": {
    "collapsed": false,
    "deletable": true,
    "editable": true
   },
   "outputs": [
    {
     "data": {
      "text/plain": [
       "\n",
       "  0   2   6  12\n",
       " 35  12  63 -80\n",
       "[torch.DoubleTensor of size 2x4]"
      ]
     },
     "execution_count": 191,
     "metadata": {},
     "output_type": "execute_result"
    }
   ],
   "source": [
    "a.mul(b)"
   ]
  },
  {
   "cell_type": "code",
   "execution_count": 198,
   "metadata": {
    "collapsed": false,
    "deletable": true,
    "editable": true
   },
   "outputs": [
    {
     "name": "stdout",
     "output_type": "stream",
     "text": [
      "20.493901531919196\n",
      "219.55409356238385\n"
     ]
    },
    {
     "data": {
      "text/plain": [
       "\n",
       "   0.0000    0.0976    0.2928    0.5855    0.9759    4.0000\n",
       "   0.1594    0.0547    0.3689   -0.3644    0.2186  344.0000\n",
       "[torch.FloatTensor of size 2x6]"
      ]
     },
     "execution_count": 198,
     "metadata": {},
     "output_type": "execute_result"
    }
   ],
   "source": [
    "distances(a,b)"
   ]
  },
  {
   "cell_type": "code",
   "execution_count": 213,
   "metadata": {
    "collapsed": false,
    "deletable": true,
    "editable": true
   },
   "outputs": [
    {
     "data": {
      "text/plain": [
       "Variable containing:\n",
       "   0.9759    4.0000\n",
       "   0.2186  344.0000\n",
       "   1.0000    0.0000\n",
       "[torch.FloatTensor of size 3x2]"
      ]
     },
     "execution_count": 213,
     "metadata": {},
     "output_type": "execute_result"
    }
   ],
   "source": [
    "distances(a,b)"
   ]
  },
  {
   "cell_type": "code",
   "execution_count": null,
   "metadata": {
    "collapsed": true,
    "deletable": true,
    "editable": true
   },
   "outputs": [],
   "source": []
  },
  {
   "cell_type": "code",
   "execution_count": null,
   "metadata": {
    "collapsed": true,
    "deletable": true,
    "editable": true
   },
   "outputs": [],
   "source": []
  }
 ],
 "metadata": {
  "kernelspec": {
   "display_name": "Python 3",
   "language": "python",
   "name": "python3"
  },
  "language_info": {
   "codemirror_mode": {
    "name": "ipython",
    "version": 3
   },
   "file_extension": ".py",
   "mimetype": "text/x-python",
   "name": "python",
   "nbconvert_exporter": "python",
   "pygments_lexer": "ipython3",
   "version": "3.5.3"
  }
 },
 "nbformat": 4,
 "nbformat_minor": 2
}
