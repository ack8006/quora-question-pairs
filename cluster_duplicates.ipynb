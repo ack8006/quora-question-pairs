{
 "cells": [
  {
   "cell_type": "code",
   "execution_count": 1,
   "metadata": {
    "collapsed": false
   },
   "outputs": [
    {
     "name": "stdout",
     "output_type": "stream",
     "text": [
      "\"id\",\"qid1\",\"qid2\",\"question1\",\"question2\",\"is_duplicate\"\r",
      "\r\n",
      "\"0\",\"1\",\"2\",\"What is the step by step guide to invest in share market in india?\",\"What is the step by step guide to invest in share market?\",\"0\"\r",
      "\r\n",
      "\"1\",\"3\",\"4\",\"What is the story of Kohinoor (Koh-i-Noor) Diamond?\",\"What would happen if the Indian government stole the Kohinoor (Koh-i-Noor) diamond back?\",\"0\"\r",
      "\r\n",
      "\"2\",\"5\",\"6\",\"How can I increase the speed of my internet connection while using a VPN?\",\"How can Internet speed be increased by hacking through DNS?\",\"0\"\r",
      "\r\n",
      "\"3\",\"7\",\"8\",\"Why am I mentally very lonely? How can I solve it?\",\"Find the remainder when [math]23^{24}[/math] is divided by 24,23?\",\"0\"\r",
      "\r\n",
      "\"4\",\"9\",\"10\",\"Which one dissolve in water quikly sugar, salt, methane and carbon di oxide?\",\"Which fish would survive in salt water?\",\"0\"\r",
      "\r\n",
      "\"5\",\"11\",\"12\",\"Astrology: I am a Capricorn Sun Cap moon and cap rising...what does that say about me?\",\"I'm a triple Capricorn (Sun, Moon and ascendant in Capricorn) What does this say about me?\",\"1\"\r",
      "\r\n",
      "\"6\",\"13\",\"14\",\"Should I buy tiago?\",\"What keeps childern active and far from phone and video games?\",\"0\"\r",
      "\r\n",
      "\"7\",\"15\",\"16\",\"How can I be a good geologist?\",\"What should I do to be a great geologist?\",\"1\"\r",
      "\r\n",
      "\"8\",\"17\",\"18\",\"When do you use シ instead of し?\",\"When do you use \"\"&\"\" instead of \"\"and\"\"?\",\"0\"\r",
      "\r\n"
     ]
    }
   ],
   "source": [
    "!head data/train.csv"
   ]
  },
  {
   "cell_type": "code",
   "execution_count": 2,
   "metadata": {
    "collapsed": true
   },
   "outputs": [],
   "source": [
    "import pandas as pd\n",
    "train_list = pd.read_csv('data/train.csv')"
   ]
  },
  {
   "cell_type": "code",
   "execution_count": 59,
   "metadata": {
    "collapsed": true
   },
   "outputs": [],
   "source": [
    "clusters = {} # Unique.\n",
    "mapping = {}"
   ]
  },
  {
   "cell_type": "code",
   "execution_count": 62,
   "metadata": {
    "collapsed": false,
    "scrolled": true
   },
   "outputs": [
    {
     "name": "stdout",
     "output_type": "stream",
     "text": [
      "0\n",
      "10000\n",
      "20000\n",
      "30000\n",
      "40000\n",
      "50000\n",
      "60000\n",
      "70000\n",
      "80000\n",
      "90000\n",
      "100000\n",
      "110000\n",
      "120000\n",
      "130000\n",
      "140000\n",
      "150000\n",
      "160000\n",
      "170000\n",
      "180000\n",
      "190000\n",
      "200000\n",
      "210000\n",
      "220000\n",
      "230000\n",
      "240000\n",
      "250000\n",
      "260000\n",
      "270000\n",
      "280000\n",
      "290000\n",
      "300000\n",
      "310000\n",
      "320000\n",
      "330000\n",
      "340000\n",
      "350000\n",
      "360000\n",
      "370000\n",
      "380000\n",
      "390000\n",
      "400000\n"
     ]
    }
   ],
   "source": [
    "new_clusters = 0\n",
    "append_clusters = 0\n",
    "for i, row in enumerate(train_list.itertuples()):\n",
    "    if i % 10000 == 0:\n",
    "        print(i)\n",
    "    if not row.is_duplicate:\n",
    "        continue\n",
    "    clust1 = mapping.get(row.qid1)\n",
    "    clust2 = mapping.get(row.qid2)\n",
    "    if clust1 is None and clust2 is None:\n",
    "        # Completely new.\n",
    "        new_clusters += 1\n",
    "        clusters[row.qid1] = [row.qid1, row.qid2]\n",
    "        mapping[row.qid1] = clusters[row.qid1]\n",
    "        mapping[row.qid2] = clusters[row.qid1]\n",
    "    elif clust1 is None:\n",
    "        append_clusters += 1\n",
    "        clust2.append(row.qid1)\n",
    "        mapping[row.qid1] = clust2\n",
    "    elif clust2 is None:\n",
    "        append_clusters += 1\n",
    "        clust1.append(row.qid2)\n",
    "        mapping[row.qid2] = clust1\n",
    "    else:\n",
    "        # Two diff clusters - merge.\n",
    "        for x in clust2:\n",
    "            if isinstance(x, int):\n",
    "                mapping[x] = clust1\n",
    "        clust2.append(None)\n",
    "        clust1.append(clust2)\n",
    "        \n",
    "print(new_clusters)\n",
    "print(append_clusters)"
   ]
  },
  {
   "cell_type": "code",
   "execution_count": 63,
   "metadata": {
    "collapsed": true
   },
   "outputs": [],
   "source": [
    "all_dups = pd.read_csv('data/all_duplicates.tsv', delimiter='\\t', index_col=None, header=None)"
   ]
  },
  {
   "cell_type": "code",
   "execution_count": 66,
   "metadata": {
    "collapsed": false
   },
   "outputs": [
    {
     "data": {
      "text/html": [
       "<div>\n",
       "<table border=\"1\" class=\"dataframe\">\n",
       "  <thead>\n",
       "    <tr style=\"text-align: right;\">\n",
       "      <th></th>\n",
       "      <th>0</th>\n",
       "      <th>1</th>\n",
       "      <th>2</th>\n",
       "    </tr>\n",
       "  </thead>\n",
       "  <tbody>\n",
       "    <tr>\n",
       "      <th>239597</th>\n",
       "      <td>1</td>\n",
       "      <td>1</td>\n",
       "      <td>1.0</td>\n",
       "    </tr>\n",
       "    <tr>\n",
       "      <th>365865</th>\n",
       "      <td>2</td>\n",
       "      <td>2</td>\n",
       "      <td>1.0</td>\n",
       "    </tr>\n",
       "    <tr>\n",
       "      <th>546918</th>\n",
       "      <td>3</td>\n",
       "      <td>3</td>\n",
       "      <td>1.0</td>\n",
       "    </tr>\n",
       "    <tr>\n",
       "      <th>795300</th>\n",
       "      <td>4</td>\n",
       "      <td>4</td>\n",
       "      <td>1.0</td>\n",
       "    </tr>\n",
       "    <tr>\n",
       "      <th>937705</th>\n",
       "      <td>5</td>\n",
       "      <td>5</td>\n",
       "      <td>1.0</td>\n",
       "    </tr>\n",
       "    <tr>\n",
       "      <th>7616</th>\n",
       "      <td>6</td>\n",
       "      <td>6</td>\n",
       "      <td>1.0</td>\n",
       "    </tr>\n",
       "    <tr>\n",
       "      <th>276945</th>\n",
       "      <td>7</td>\n",
       "      <td>7</td>\n",
       "      <td>1.0</td>\n",
       "    </tr>\n",
       "    <tr>\n",
       "      <th>373856</th>\n",
       "      <td>8</td>\n",
       "      <td>8</td>\n",
       "      <td>1.0</td>\n",
       "    </tr>\n",
       "    <tr>\n",
       "      <th>568582</th>\n",
       "      <td>9</td>\n",
       "      <td>9</td>\n",
       "      <td>1.0</td>\n",
       "    </tr>\n",
       "    <tr>\n",
       "      <th>276801</th>\n",
       "      <td>10</td>\n",
       "      <td>10</td>\n",
       "      <td>1.0</td>\n",
       "    </tr>\n",
       "  </tbody>\n",
       "</table>\n",
       "</div>"
      ],
      "text/plain": [
       "         0   1    2\n",
       "239597   1   1  1.0\n",
       "365865   2   2  1.0\n",
       "546918   3   3  1.0\n",
       "795300   4   4  1.0\n",
       "937705   5   5  1.0\n",
       "7616     6   6  1.0\n",
       "276945   7   7  1.0\n",
       "373856   8   8  1.0\n",
       "568582   9   9  1.0\n",
       "276801  10  10  1.0"
      ]
     },
     "execution_count": 66,
     "metadata": {},
     "output_type": "execute_result"
    }
   ],
   "source": [
    "all_dups_sort = all_dups.sort_values([0, 1])\n",
    "all_dups_sort[:10]"
   ]
  },
  {
   "cell_type": "code",
   "execution_count": 67,
   "metadata": {
    "collapsed": true
   },
   "outputs": [],
   "source": [
    "all_dups_sort.columns = ['qid1', 'qid2', 'count']"
   ]
  },
  {
   "cell_type": "code",
   "execution_count": 68,
   "metadata": {
    "collapsed": true
   },
   "outputs": [],
   "source": [
    "ads_diff = all_dups_sort[all_dups_sort['qid1'] != all_dups_sort['qid2']]"
   ]
  },
  {
   "cell_type": "code",
   "execution_count": 69,
   "metadata": {
    "collapsed": false
   },
   "outputs": [
    {
     "data": {
      "text/html": [
       "<div>\n",
       "<table border=\"1\" class=\"dataframe\">\n",
       "  <thead>\n",
       "    <tr style=\"text-align: right;\">\n",
       "      <th></th>\n",
       "      <th>qid1</th>\n",
       "      <th>qid2</th>\n",
       "      <th>count</th>\n",
       "    </tr>\n",
       "  </thead>\n",
       "  <tbody>\n",
       "    <tr>\n",
       "      <th>464092</th>\n",
       "      <td>11</td>\n",
       "      <td>12</td>\n",
       "      <td>2.0</td>\n",
       "    </tr>\n",
       "    <tr>\n",
       "      <th>530608</th>\n",
       "      <td>12</td>\n",
       "      <td>11</td>\n",
       "      <td>2.0</td>\n",
       "    </tr>\n",
       "    <tr>\n",
       "      <th>107577</th>\n",
       "      <td>15</td>\n",
       "      <td>16</td>\n",
       "      <td>2.0</td>\n",
       "    </tr>\n",
       "    <tr>\n",
       "      <th>168316</th>\n",
       "      <td>16</td>\n",
       "      <td>15</td>\n",
       "      <td>2.0</td>\n",
       "    </tr>\n",
       "    <tr>\n",
       "      <th>841428</th>\n",
       "      <td>23</td>\n",
       "      <td>24</td>\n",
       "      <td>2.0</td>\n",
       "    </tr>\n",
       "    <tr>\n",
       "      <th>151009</th>\n",
       "      <td>24</td>\n",
       "      <td>23</td>\n",
       "      <td>2.0</td>\n",
       "    </tr>\n",
       "    <tr>\n",
       "      <th>293944</th>\n",
       "      <td>25</td>\n",
       "      <td>26</td>\n",
       "      <td>3.0</td>\n",
       "    </tr>\n",
       "    <tr>\n",
       "      <th>286980</th>\n",
       "      <td>25</td>\n",
       "      <td>114035</td>\n",
       "      <td>3.0</td>\n",
       "    </tr>\n",
       "    <tr>\n",
       "      <th>350605</th>\n",
       "      <td>26</td>\n",
       "      <td>25</td>\n",
       "      <td>3.0</td>\n",
       "    </tr>\n",
       "    <tr>\n",
       "      <th>412484</th>\n",
       "      <td>26</td>\n",
       "      <td>114035</td>\n",
       "      <td>3.0</td>\n",
       "    </tr>\n",
       "  </tbody>\n",
       "</table>\n",
       "</div>"
      ],
      "text/plain": [
       "        qid1    qid2  count\n",
       "464092    11      12    2.0\n",
       "530608    12      11    2.0\n",
       "107577    15      16    2.0\n",
       "168316    16      15    2.0\n",
       "841428    23      24    2.0\n",
       "151009    24      23    2.0\n",
       "293944    25      26    3.0\n",
       "286980    25  114035    3.0\n",
       "350605    26      25    3.0\n",
       "412484    26  114035    3.0"
      ]
     },
     "execution_count": 69,
     "metadata": {},
     "output_type": "execute_result"
    }
   ],
   "source": [
    "ads_diff[:10]"
   ]
  },
  {
   "cell_type": "code",
   "execution_count": 71,
   "metadata": {
    "collapsed": false
   },
   "outputs": [],
   "source": [
    "a_child = {}\n",
    "clusters = {}\n",
    "# ads_diff graph clusters are complete graphs.\n",
    "for row in ads_diff.itertuples():\n",
    "    if row.qid1 in a_child:\n",
    "        continue\n",
    "    a_child[row.qid2] = True # already a child of something else\n",
    "    if row.qid1 not in clusters:\n",
    "        clusters[row.qid1] = [row.qid1]\n",
    "    clusters[row.qid1].append(row.qid2)"
   ]
  },
  {
   "cell_type": "code",
   "execution_count": 73,
   "metadata": {
    "collapsed": false
   },
   "outputs": [],
   "source": [
    "all_clusts = list(clusters.values())"
   ]
  },
  {
   "cell_type": "code",
   "execution_count": 77,
   "metadata": {
    "collapsed": false
   },
   "outputs": [],
   "source": [
    "lens = [len(clust) for clust in all_clusts]"
   ]
  },
  {
   "cell_type": "code",
   "execution_count": 80,
   "metadata": {
    "collapsed": false
   },
   "outputs": [
    {
     "data": {
      "text/plain": [
       "<matplotlib.axes._subplots.AxesSubplot at 0x7ff1f5d44fd0>"
      ]
     },
     "execution_count": 80,
     "metadata": {},
     "output_type": "execute_result"
    },
    {
     "data": {
      "image/png": "[encoded data removed]",
      "text/plain": [
       "<matplotlib.figure.Figure at 0x7ff1f9b6cb10>"
      ]
     },
     "metadata": {},
     "output_type": "display_data"
    }
   ],
   "source": [
    "%matplotlib inline\n",
    "pd.Series(lens).hist()"
   ]
  },
  {
   "cell_type": "code",
   "execution_count": 81,
   "metadata": {
    "collapsed": true
   },
   "outputs": [],
   "source": [
    "data = {\n",
    "    'clusters': all_clusts\n",
    "}"
   ]
  },
  {
   "cell_type": "code",
   "execution_count": 82,
   "metadata": {
    "collapsed": true
   },
   "outputs": [],
   "source": [
    "import json"
   ]
  },
  {
   "cell_type": "code",
   "execution_count": 84,
   "metadata": {
    "collapsed": true
   },
   "outputs": [],
   "source": [
    "json.dump(data, open('data/clusters.json', 'w'), indent=2, sort_keys=True)"
   ]
  },
  {
   "cell_type": "markdown",
   "metadata": {},
   "source": [
    "# Canonical data splits"
   ]
  },
  {
   "cell_type": "code",
   "execution_count": 85,
   "metadata": {
    "collapsed": false
   },
   "outputs": [
    {
     "name": "stdout",
     "output_type": "stream",
     "text": [
      "1,What is the step by step guide to invest in share market in india?\r\n",
      "3,What is the story of Kohinoor (Koh-i-Noor) Diamond?\r\n",
      "5,How can I increase the speed of my internet connection while using a VPN?\r\n",
      "7,Why am I mentally very lonely? How can I solve it?\r\n",
      "9,\"Which one dissolve in water quikly sugar, salt, methane and carbon di oxide?\"\r\n",
      "11,Astrology: I am a Capricorn Sun Cap moon and cap rising...what does that say about me?\r\n",
      "13,Should I buy tiago?\r\n",
      "15,How can I be a good geologist?\r\n",
      "17,When do you use シ instead of し?\r\n",
      "19,Motorola (company): Can I hack my Charter Motorolla DCX3400?\r\n"
     ]
    }
   ],
   "source": [
    "!head data/all_questions.csv"
   ]
  },
  {
   "cell_type": "code",
   "execution_count": 117,
   "metadata": {
    "collapsed": false
   },
   "outputs": [
    {
     "name": "stdout",
     "output_type": "stream",
     "text": [
      "537933\n"
     ]
    },
    {
     "data": {
      "text/html": [
       "<div>\n",
       "<table border=\"1\" class=\"dataframe\">\n",
       "  <thead>\n",
       "    <tr style=\"text-align: right;\">\n",
       "      <th></th>\n",
       "      <th>1</th>\n",
       "    </tr>\n",
       "    <tr>\n",
       "      <th>0</th>\n",
       "      <th></th>\n",
       "    </tr>\n",
       "  </thead>\n",
       "  <tbody>\n",
       "    <tr>\n",
       "      <th>1</th>\n",
       "      <td>What is the step by step guide to invest in sh...</td>\n",
       "    </tr>\n",
       "    <tr>\n",
       "      <th>3</th>\n",
       "      <td>What is the story of Kohinoor (Koh-i-Noor) Dia...</td>\n",
       "    </tr>\n",
       "    <tr>\n",
       "      <th>5</th>\n",
       "      <td>How can I increase the speed of my internet co...</td>\n",
       "    </tr>\n",
       "    <tr>\n",
       "      <th>7</th>\n",
       "      <td>Why am I mentally very lonely? How can I solve...</td>\n",
       "    </tr>\n",
       "    <tr>\n",
       "      <th>9</th>\n",
       "      <td>Which one dissolve in water quikly sugar, salt...</td>\n",
       "    </tr>\n",
       "    <tr>\n",
       "      <th>11</th>\n",
       "      <td>Astrology: I am a Capricorn Sun Cap moon and c...</td>\n",
       "    </tr>\n",
       "    <tr>\n",
       "      <th>13</th>\n",
       "      <td>Should I buy tiago?</td>\n",
       "    </tr>\n",
       "    <tr>\n",
       "      <th>15</th>\n",
       "      <td>How can I be a good geologist?</td>\n",
       "    </tr>\n",
       "    <tr>\n",
       "      <th>17</th>\n",
       "      <td>When do you use シ instead of し?</td>\n",
       "    </tr>\n",
       "    <tr>\n",
       "      <th>19</th>\n",
       "      <td>Motorola (company): Can I hack my Charter Moto...</td>\n",
       "    </tr>\n",
       "  </tbody>\n",
       "</table>\n",
       "</div>"
      ],
      "text/plain": [
       "                                                    1\n",
       "0                                                    \n",
       "1   What is the step by step guide to invest in sh...\n",
       "3   What is the story of Kohinoor (Koh-i-Noor) Dia...\n",
       "5   How can I increase the speed of my internet co...\n",
       "7   Why am I mentally very lonely? How can I solve...\n",
       "9   Which one dissolve in water quikly sugar, salt...\n",
       "11  Astrology: I am a Capricorn Sun Cap moon and c...\n",
       "13                                Should I buy tiago?\n",
       "15                     How can I be a good geologist?\n",
       "17                    When do you use シ instead of し?\n",
       "19  Motorola (company): Can I hack my Charter Moto..."
      ]
     },
     "execution_count": 117,
     "metadata": {},
     "output_type": "execute_result"
    }
   ],
   "source": [
    "questions = pd.read_csv('data/all_questions.csv', header=None, index_col=0)\n",
    "print(len(questions))\n",
    "questions[:10]"
   ]
  },
  {
   "cell_type": "code",
   "execution_count": 96,
   "metadata": {
    "collapsed": false
   },
   "outputs": [],
   "source": [
    "np.random.shuffle(all_clusts)"
   ]
  },
  {
   "cell_type": "code",
   "execution_count": 118,
   "metadata": {
    "collapsed": true
   },
   "outputs": [],
   "source": [
    "import numpy as np\n",
    "indices = range(len(questions))\n",
    "np.random.shuffle(indices)"
   ]
  },
  {
   "cell_type": "code",
   "execution_count": 122,
   "metadata": {
    "collapsed": false
   },
   "outputs": [
    {
     "name": "stdout",
     "output_type": "stream",
     "text": [
      "[247368, 519363, 258900, 413437, 250947, 213034, 503890]\n"
     ]
    },
    {
     "data": {
      "text/html": [
       "<div>\n",
       "<table border=\"1\" class=\"dataframe\">\n",
       "  <thead>\n",
       "    <tr style=\"text-align: right;\">\n",
       "      <th></th>\n",
       "      <th>0</th>\n",
       "      <th>1</th>\n",
       "    </tr>\n",
       "  </thead>\n",
       "  <tbody>\n",
       "    <tr>\n",
       "      <th>247368</th>\n",
       "      <td>459668</td>\n",
       "      <td>What's your dream?</td>\n",
       "    </tr>\n",
       "    <tr>\n",
       "      <th>519363</th>\n",
       "      <td>502058</td>\n",
       "      <td>I discovered a neighbor neglecting a dog and l...</td>\n",
       "    </tr>\n",
       "    <tr>\n",
       "      <th>258900</th>\n",
       "      <td>480503</td>\n",
       "      <td>Can I crack JEE in 6 months?</td>\n",
       "    </tr>\n",
       "    <tr>\n",
       "      <th>413437</th>\n",
       "      <td>287293</td>\n",
       "      <td>How can you pass urine drug test in 48 hours?</td>\n",
       "    </tr>\n",
       "    <tr>\n",
       "      <th>250947</th>\n",
       "      <td>466150</td>\n",
       "      <td>F.R.I.E.N.D.S or The Big Bang Theory: Which on...</td>\n",
       "    </tr>\n",
       "    <tr>\n",
       "      <th>213034</th>\n",
       "      <td>397304</td>\n",
       "      <td>What's the average number of lies humans speak...</td>\n",
       "    </tr>\n",
       "    <tr>\n",
       "      <th>503890</th>\n",
       "      <td>471743</td>\n",
       "      <td>Can a married person crack UPSC exam?</td>\n",
       "    </tr>\n",
       "  </tbody>\n",
       "</table>\n",
       "</div>"
      ],
      "text/plain": [
       "             0                                                  1\n",
       "247368  459668                                 What's your dream?\n",
       "519363  502058  I discovered a neighbor neglecting a dog and l...\n",
       "258900  480503                       Can I crack JEE in 6 months?\n",
       "413437  287293      How can you pass urine drug test in 48 hours?\n",
       "250947  466150  F.R.I.E.N.D.S or The Big Bang Theory: Which on...\n",
       "213034  397304  What's the average number of lies humans speak...\n",
       "503890  471743              Can a married person crack UPSC exam?"
      ]
     },
     "execution_count": 122,
     "metadata": {},
     "output_type": "execute_result"
    }
   ],
   "source": [
    "print(indices[33:40])\n",
    "questions.reset_index().iloc[indices[33:40]]"
   ]
  },
  {
   "cell_type": "code",
   "execution_count": 123,
   "metadata": {
    "collapsed": false
   },
   "outputs": [
    {
     "data": {
      "text/html": [
       "<div>\n",
       "<table border=\"1\" class=\"dataframe\">\n",
       "  <thead>\n",
       "    <tr style=\"text-align: right;\">\n",
       "      <th></th>\n",
       "      <th>1</th>\n",
       "    </tr>\n",
       "    <tr>\n",
       "      <th>0</th>\n",
       "      <th></th>\n",
       "    </tr>\n",
       "  </thead>\n",
       "  <tbody>\n",
       "    <tr>\n",
       "      <th>3508</th>\n",
       "      <td>What is light made up of?</td>\n",
       "    </tr>\n",
       "    <tr>\n",
       "      <th>3509</th>\n",
       "      <td>What exactly is light made of?</td>\n",
       "    </tr>\n",
       "    <tr>\n",
       "      <th>75879</th>\n",
       "      <td>What are light made of?</td>\n",
       "    </tr>\n",
       "    <tr>\n",
       "      <th>75880</th>\n",
       "      <td>What is light made out of?</td>\n",
       "    </tr>\n",
       "    <tr>\n",
       "      <th>214820</th>\n",
       "      <td>Light is made of what?</td>\n",
       "    </tr>\n",
       "    <tr>\n",
       "      <th>219112</th>\n",
       "      <td>What is light made of?</td>\n",
       "    </tr>\n",
       "  </tbody>\n",
       "</table>\n",
       "</div>"
      ],
      "text/plain": [
       "                                     1\n",
       "0                                     \n",
       "3508         What is light made up of?\n",
       "3509    What exactly is light made of?\n",
       "75879          What are light made of?\n",
       "75880       What is light made out of?\n",
       "214820          Light is made of what?\n",
       "219112          What is light made of?"
      ]
     },
     "execution_count": 123,
     "metadata": {},
     "output_type": "execute_result"
    }
   ],
   "source": [
    "questions.ix[all_clusts[127]]"
   ]
  },
  {
   "cell_type": "code",
   "execution_count": 106,
   "metadata": {
    "collapsed": false
   },
   "outputs": [
    {
     "data": {
      "text/plain": [
       "[103122, 103123, 483029]"
      ]
     },
     "execution_count": 106,
     "metadata": {},
     "output_type": "execute_result"
    }
   ],
   "source": [
    "all_clusts[20]"
   ]
  },
  {
   "cell_type": "code",
   "execution_count": 124,
   "metadata": {
    "collapsed": false
   },
   "outputs": [
    {
     "data": {
      "text/html": [
       "<div>\n",
       "<table border=\"1\" class=\"dataframe\">\n",
       "  <thead>\n",
       "    <tr style=\"text-align: right;\">\n",
       "      <th></th>\n",
       "      <th>1</th>\n",
       "    </tr>\n",
       "    <tr>\n",
       "      <th>0</th>\n",
       "      <th></th>\n",
       "    </tr>\n",
       "  </thead>\n",
       "  <tbody>\n",
       "    <tr>\n",
       "      <th>359696</th>\n",
       "      <td>What are the personality traits of a Labrador/...</td>\n",
       "    </tr>\n",
       "    <tr>\n",
       "      <th>134704</th>\n",
       "      <td>What is the Java Applet code for calculator fo...</td>\n",
       "    </tr>\n",
       "    <tr>\n",
       "      <th>154531</th>\n",
       "      <td>What is the risk of a propane tank exploding?</td>\n",
       "    </tr>\n",
       "    <tr>\n",
       "      <th>298632</th>\n",
       "      <td>What was your most embarrassing moment in fron...</td>\n",
       "    </tr>\n",
       "    <tr>\n",
       "      <th>443480</th>\n",
       "      <td>Is Jeff Bezos on Quora?</td>\n",
       "    </tr>\n",
       "    <tr>\n",
       "      <th>289176</th>\n",
       "      <td>What are some of the best projects that can be...</td>\n",
       "    </tr>\n",
       "    <tr>\n",
       "      <th>38668</th>\n",
       "      <td>What is air resistance? What are some examples?</td>\n",
       "    </tr>\n",
       "    <tr>\n",
       "      <th>123996</th>\n",
       "      <td>Why aren't all books and research papers in sc...</td>\n",
       "    </tr>\n",
       "    <tr>\n",
       "      <th>52066</th>\n",
       "      <td>What is the best way to deal with social anxie...</td>\n",
       "    </tr>\n",
       "    <tr>\n",
       "      <th>523124</th>\n",
       "      <td>Which universities in united states provides a...</td>\n",
       "    </tr>\n",
       "  </tbody>\n",
       "</table>\n",
       "</div>"
      ],
      "text/plain": [
       "                                                        1\n",
       "0                                                        \n",
       "359696  What are the personality traits of a Labrador/...\n",
       "134704  What is the Java Applet code for calculator fo...\n",
       "154531      What is the risk of a propane tank exploding?\n",
       "298632  What was your most embarrassing moment in fron...\n",
       "443480                            Is Jeff Bezos on Quora?\n",
       "289176  What are some of the best projects that can be...\n",
       "38668     What is air resistance? What are some examples?\n",
       "123996  Why aren't all books and research papers in sc...\n",
       "52066   What is the best way to deal with social anxie...\n",
       "523124  Which universities in united states provides a..."
      ]
     },
     "execution_count": 124,
     "metadata": {},
     "output_type": "execute_result"
    }
   ],
   "source": [
    "questions_train = questions.iloc[indices[:350000]]\n",
    "questions_valid = questions.iloc[indices[350000:]]\n",
    "questions_train[:10]"
   ]
  },
  {
   "cell_type": "code",
   "execution_count": 128,
   "metadata": {
    "collapsed": false
   },
   "outputs": [
    {
     "name": "stdout",
     "output_type": "stream",
     "text": [
      "359696,What are the personality traits of a Labrador/Hound mix?\r\n",
      "134704,What is the Java Applet code for calculator for multiple numbers?\r\n",
      "154531,What is the risk of a propane tank exploding?\r\n",
      "298632,What was your most embarrassing moment in front of a girl?\r\n",
      "443480,Is Jeff Bezos on Quora?\r\n",
      "289176,What are some of the best projects that can be done through Java?\r\n",
      "38668,What is air resistance? What are some examples?\r\n",
      "123996,Why aren't all books and research papers in science in a free public use? Why should anyone pay money for them? Shouldn't it be illegal to sell that kind of books and papers for profit?\r\n",
      "52066,What is the best way to deal with social anxiety disorder?\r\n",
      "523124,Which universities in united states provides auditing a course for international students?\r\n"
     ]
    }
   ],
   "source": [
    "questions_train.to_csv('data/questions_train.csv', header=False)\n",
    "questions_valid.to_csv('data/questions_valid.csv', header=False)\n",
    "!head data/questions_train.csv"
   ]
  },
  {
   "cell_type": "code",
   "execution_count": 134,
   "metadata": {
    "collapsed": false
   },
   "outputs": [],
   "source": [
    "train_ids = set(questions_train.index)\n",
    "valid_ids = set(questions_valid.index)"
   ]
  },
  {
   "cell_type": "code",
   "execution_count": 140,
   "metadata": {
    "collapsed": false
   },
   "outputs": [],
   "source": [
    "train_clusters = []\n",
    "valid_clusters = []\n",
    "for cluster in all_clusts:\n",
    "    train_id = [x for x in cluster if x in train_ids]\n",
    "    if len(train_id) > 1:\n",
    "        train_clusters.append(train_id)\n",
    "    valid_id = [x for x in cluster if x in valid_ids]\n",
    "    if len(valid_id) > 1:\n",
    "        valid_clusters.append(valid_id)"
   ]
  },
  {
   "cell_type": "code",
   "execution_count": 141,
   "metadata": {
    "collapsed": false
   },
   "outputs": [
    {
     "data": {
      "text/plain": [
       "11033"
      ]
     },
     "execution_count": 141,
     "metadata": {},
     "output_type": "execute_result"
    }
   ],
   "source": [
    "len(valid_clusters)"
   ]
  },
  {
   "cell_type": "code",
   "execution_count": 142,
   "metadata": {
    "collapsed": true
   },
   "outputs": [],
   "source": [
    "train_clusterso = {'clusters': train_clusters}\n",
    "json.dump(train_clusterso, open('data/train_clusters.json', 'w'), indent=2, sort_keys=True)"
   ]
  },
  {
   "cell_type": "code",
   "execution_count": 143,
   "metadata": {
    "collapsed": true
   },
   "outputs": [],
   "source": [
    "valid_clusterso = {'clusters': valid_clusters}\n",
    "json.dump(valid_clusterso, open('data/valid_clusters.json', 'w'), indent=2, sort_keys=True)"
   ]
  },
  {
   "cell_type": "code",
   "execution_count": 152,
   "metadata": {
    "collapsed": false
   },
   "outputs": [
    {
     "data": {
      "text/html": [
       "<div>\n",
       "<table border=\"1\" class=\"dataframe\">\n",
       "  <thead>\n",
       "    <tr style=\"text-align: right;\">\n",
       "      <th></th>\n",
       "      <th>1</th>\n",
       "    </tr>\n",
       "    <tr>\n",
       "      <th>0</th>\n",
       "      <th></th>\n",
       "    </tr>\n",
       "  </thead>\n",
       "  <tbody>\n",
       "    <tr>\n",
       "      <th>128028</th>\n",
       "      <td>Where do you garner inspiration for your writing?</td>\n",
       "    </tr>\n",
       "    <tr>\n",
       "      <th>128029</th>\n",
       "      <td>What are your inspirations when you are writing?</td>\n",
       "    </tr>\n",
       "    <tr>\n",
       "      <th>131233</th>\n",
       "      <td>Who or what has inspired your writing?</td>\n",
       "    </tr>\n",
       "    <tr>\n",
       "      <th>435796</th>\n",
       "      <td>What inspires you to write?</td>\n",
       "    </tr>\n",
       "  </tbody>\n",
       "</table>\n",
       "</div>"
      ],
      "text/plain": [
       "                                                        1\n",
       "0                                                        \n",
       "128028  Where do you garner inspiration for your writing?\n",
       "128029   What are your inspirations when you are writing?\n",
       "131233             Who or what has inspired your writing?\n",
       "435796                        What inspires you to write?"
      ]
     },
     "execution_count": 152,
     "metadata": {},
     "output_type": "execute_result"
    }
   ],
   "source": [
    "questions_train.ix[train_clusters[1243]]"
   ]
  },
  {
   "cell_type": "code",
   "execution_count": 147,
   "metadata": {
    "collapsed": false
   },
   "outputs": [
    {
     "data": {
      "text/html": [
       "<div>\n",
       "<table border=\"1\" class=\"dataframe\">\n",
       "  <thead>\n",
       "    <tr style=\"text-align: right;\">\n",
       "      <th></th>\n",
       "      <th>1</th>\n",
       "    </tr>\n",
       "    <tr>\n",
       "      <th>0</th>\n",
       "      <th></th>\n",
       "    </tr>\n",
       "  </thead>\n",
       "  <tbody>\n",
       "    <tr>\n",
       "      <th>267995</th>\n",
       "      <td>Who owns, runs, and funds the Internet?</td>\n",
       "    </tr>\n",
       "    <tr>\n",
       "      <th>267996</th>\n",
       "      <td>Who runs/manages the internet?</td>\n",
       "    </tr>\n",
       "  </tbody>\n",
       "</table>\n",
       "</div>"
      ],
      "text/plain": [
       "                                              1\n",
       "0                                              \n",
       "267995  Who owns, runs, and funds the Internet?\n",
       "267996           Who runs/manages the internet?"
      ]
     },
     "execution_count": 147,
     "metadata": {},
     "output_type": "execute_result"
    }
   ],
   "source": [
    "questions_valid.ix[valid_clusters[99]]"
   ]
  },
  {
   "cell_type": "code",
   "execution_count": null,
   "metadata": {
    "collapsed": true
   },
   "outputs": [],
   "source": []
  }
 ],
 "metadata": {
  "anaconda-cloud": {},
  "kernelspec": {
   "display_name": "Python [python2]",
   "language": "python",
   "name": "Python [python2]"
  },
  "language_info": {
   "codemirror_mode": {
    "name": "ipython",
    "version": 2
   },
   "file_extension": ".py",
   "mimetype": "text/x-python",
   "name": "python",
   "nbconvert_exporter": "python",
   "pygments_lexer": "ipython2",
   "version": "2.7.13"
  }
 },
 "nbformat": 4,
 "nbformat_minor": 0
}
