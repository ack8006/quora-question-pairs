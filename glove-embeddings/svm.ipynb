{
 "cells": [
  {
   "cell_type": "markdown",
   "metadata": {},
   "source": [
    "# SVM\n",
    "\n",
    "Use a standard SVM on 300d glove. Moved from glove.ipynb because I ran out of memory."
   ]
  },
  {
   "cell_type": "code",
   "execution_count": 1,
   "metadata": {
    "collapsed": true
   },
   "outputs": [],
   "source": [
    "# Save these files so I don't have to do this again\n",
    "import csv\n",
    "def load_tokenized(path):\n",
    "    with open(path, 'r') as f:\n",
    "        reader = csv.reader(f, delimiter='|')\n",
    "        sentences = []\n",
    "        for row in reader:\n",
    "            sentences.append(row)\n",
    "        return sentences\n",
    "\n",
    "q1_word_tokenized = load_tokenized('../data/train_q1.txt')\n",
    "q2_word_tokenized = load_tokenized('../data/train_q2.txt')"
   ]
  },
  {
   "cell_type": "code",
   "execution_count": 2,
   "metadata": {
    "collapsed": false
   },
   "outputs": [
    {
     "data": {
      "text/plain": [
       "[1, 0, 0, 0, 0, 1, 0, 1, 1, 1]"
      ]
     },
     "execution_count": 2,
     "metadata": {},
     "output_type": "execute_result"
    }
   ],
   "source": [
    "is_duplicate = [int(x.strip()) for x in open('../data/train_is_duplicate.txt')]\n",
    "is_duplicate[3355:3365]"
   ]
  },
  {
   "cell_type": "code",
   "execution_count": 3,
   "metadata": {
    "collapsed": true
   },
   "outputs": [],
   "source": [
    "import numpy as np\n",
    "\n",
    "def load_embeddings(filepath):\n",
    "    embeddings = {}\n",
    "    current_word = 0\n",
    "    rows = []\n",
    "    \n",
    "    with open(filepath, \"rb\") as f:\n",
    "        for line in f:\n",
    "            line = line.decode(\"utf-8\")\n",
    "            elements = line.strip().split(' ', 1)\n",
    "            word = elements[0]\n",
    "            vector = [float(x) for x in elements[1].split(' ')]\n",
    "            vector = np.array(vector)\n",
    "            \n",
    "            word_id = current_word\n",
    "            current_word += 1\n",
    "            embeddings[word] = word_id\n",
    "            rows.append(vector)\n",
    "    return embeddings, np.stack(rows, axis=0)"
   ]
  },
  {
   "cell_type": "code",
   "execution_count": 4,
   "metadata": {
    "collapsed": false
   },
   "outputs": [
    {
     "name": "stdout",
     "output_type": "stream",
     "text": [
      "(400000, 300)\n"
     ]
    }
   ],
   "source": [
    "# What about 300d GloVe?\n",
    "embeddings300, array300 = load_embeddings(\"../data/glove.6B.300d.txt\")\n",
    "print(array300.shape)"
   ]
  },
  {
   "cell_type": "code",
   "execution_count": 5,
   "metadata": {
    "collapsed": false
   },
   "outputs": [
    {
     "name": "stdout",
     "output_type": "stream",
     "text": [
      "400000\n"
     ]
    }
   ],
   "source": [
    "print(len(embeddings300))"
   ]
  },
  {
   "cell_type": "code",
   "execution_count": 6,
   "metadata": {
    "collapsed": false
   },
   "outputs": [],
   "source": [
    "def get_paragraph_embedding(paragraph,\n",
    "                            dictionary,\n",
    "                            embeddings,\n",
    "                            ignore_unknown=True,\n",
    "                            unknown_embedding=None):\n",
    "    '''Return a paragraph embedding as an average of its word embeddings.'''\n",
    "    embedding_size = embeddings[dictionary['the'],:].shape[0] # autodetect\n",
    "    paragraph_embedding = np.zeros(embedding_size)\n",
    "    count_words = 0\n",
    "    for word in paragraph:\n",
    "        if word in dictionary:\n",
    "            we = embeddings[dictionary[word]]\n",
    "            paragraph_embedding += we\n",
    "            count_words += 1\n",
    "        elif not ignore_unknown:\n",
    "            we = unknown_embedding\n",
    "            paragraph_embedding += we\n",
    "            count_words += 1\n",
    "    if count_words == 0:\n",
    "        paragraph_embedding = paragraph_embedding\n",
    "    else:\n",
    "        paragraph_embedding = paragraph_embedding / count_words\n",
    "    return paragraph_embedding"
   ]
  },
  {
   "cell_type": "code",
   "execution_count": 7,
   "metadata": {
    "collapsed": false
   },
   "outputs": [
    {
     "name": "stdout",
     "output_type": "stream",
     "text": [
      "(404288, 300)\n",
      "(404288, 300)\n"
     ]
    }
   ],
   "source": [
    "q1_emb300 = []\n",
    "q2_emb300 = []\n",
    "for q1 in q1_word_tokenized:\n",
    "    e = get_paragraph_embedding(q1, embeddings300, array300, ignore_unknown=True)\n",
    "    q1_emb300.append(e)\n",
    "for q2 in q2_word_tokenized:\n",
    "    e = get_paragraph_embedding(q2, embeddings300, array300, ignore_unknown=True)\n",
    "    q2_emb300.append(e)\n",
    "q1_emb300 = np.stack(q1_emb300)\n",
    "q2_emb300 = np.stack(q2_emb300)\n",
    "print(q1_emb300.shape)\n",
    "print(q2_emb300.shape)"
   ]
  },
  {
   "cell_type": "code",
   "execution_count": 8,
   "metadata": {
    "collapsed": false,
    "scrolled": true
   },
   "outputs": [
    {
     "name": "stdout",
     "output_type": "stream",
     "text": [
      "(404288, 600)\n"
     ]
    }
   ],
   "source": [
    "q1q2 = np.concatenate([q1_emb300, q2_emb300], axis=1)\n",
    "print(q1q2.shape)"
   ]
  },
  {
   "cell_type": "markdown",
   "metadata": {},
   "source": [
    "Save memory:"
   ]
  },
  {
   "cell_type": "code",
   "execution_count": 9,
   "metadata": {
    "collapsed": true
   },
   "outputs": [],
   "source": [
    "del q1_emb300\n",
    "del q2_emb300"
   ]
  },
  {
   "cell_type": "markdown",
   "metadata": {},
   "source": [
    "# Checkpoint\n",
    "\n",
    "At this point we have:\n",
    "1. ``is_duplicate``: python list, values $\\in \\{0, 1\\}$\n",
    "1. ``q1q2``: np.Array, $\\mathbb{R}^{400,000 \\times 600}$"
   ]
  },
  {
   "cell_type": "code",
   "execution_count": 10,
   "metadata": {
    "collapsed": true
   },
   "outputs": [],
   "source": [
    "from sklearn.svm import LinearSVC\n",
    "from sklearn.model_selection import train_test_split\n",
    "from sklearn.preprocessing import Normalizer\n",
    "\n",
    "rand = 33\n",
    "\n",
    "X = q1q2\n",
    "y = is_duplicate\n",
    "X_train, X_valid, y_train, y_valid = train_test_split(X, y, test_size=0.4, random_state=rand)\n",
    "\n",
    "nrm = Normalizer()\n",
    "X_train = nrm.fit_transform(X_train)\n",
    "X_valid = nrm.transform(X_valid)"
   ]
  },
  {
   "cell_type": "code",
   "execution_count": 11,
   "metadata": {
    "collapsed": true
   },
   "outputs": [],
   "source": [
    "# These numbers take a while to generate. Let's save them.\n",
    "# It turns out they're pretty big, lol\n",
    "np.savetxt('../data/train_X_train.txt', X_train)\n",
    "np.savetxt('../data/train_X_valid.txt', X_valid)\n",
    "np.savetxt('../data/train_y_train.txt', y_train)\n",
    "np.savetxt('../data/train_y_valid.txt', y_valid)"
   ]
  },
  {
   "cell_type": "code",
   "execution_count": 12,
   "metadata": {
    "collapsed": true
   },
   "outputs": [],
   "source": [
    "# At this point we have a problem: too many examples!\n",
    "# Idea #1: bagged SVM\n",
    "indices = range(len(X_train))"
   ]
  },
  {
   "cell_type": "code",
   "execution_count": 22,
   "metadata": {
    "collapsed": false
   },
   "outputs": [
    {
     "name": "stdout",
     "output_type": "stream",
     "text": [
      "Model: 0\n",
      "Model: 1\n",
      "Model: 2\n",
      "Model: 3\n",
      "Model: 4\n",
      "Model: 5\n",
      "Model: 6\n",
      "Model: 7\n",
      "Model: 8\n",
      "Model: 9\n",
      "Model: 10\n",
      "Model: 11\n",
      "Model: 12\n",
      "Model: 13\n",
      "Model: 14\n",
      "Model: 15\n",
      "Model: 16\n",
      "Model: 17\n",
      "Model: 18\n",
      "Model: 19\n"
     ]
    }
   ],
   "source": [
    "from __future__ import print_function\n",
    "bag_num = 20\n",
    "examples_per_bag = 1000\n",
    "models = []\n",
    "\n",
    "C=1.0\n",
    "\n",
    "for i in range(bag_num):\n",
    "    print('Model:', i)\n",
    "    np.random.shuffle(indices)\n",
    "    i_bag = indices[:examples_per_bag]\n",
    "    X_bag = X[i_bag]\n",
    "    y_bag = [y[i] for i in i_bag]\n",
    "    svm = LinearSVC()\n",
    "    svm.fit(X_bag, y_bag)\n",
    "    models.append(svm)"
   ]
  },
  {
   "cell_type": "markdown",
   "metadata": {},
   "source": [
    "# Evaluation"
   ]
  },
  {
   "cell_type": "code",
   "execution_count": 32,
   "metadata": {
    "collapsed": true
   },
   "outputs": [],
   "source": [
    "import numpy as np\n",
    "import matplotlib.pyplot as plt\n",
    "from sklearn.datasets.samples_generator import make_blobs\n",
    "import matplotlib as mpl\n",
    "mpl.rcParams['savefig.dpi'] = 100\n",
    "mpl.rcParams['figure.dpi'] = 100\n",
    "\n",
    "%config InlineBackend.figure_format = 'retina'\n",
    "%matplotlib inline"
   ]
  },
  {
   "cell_type": "code",
   "execution_count": 29,
   "metadata": {
    "collapsed": false
   },
   "outputs": [
    {
     "name": "stdout",
     "output_type": "stream",
     "text": [
      "(161716,)\n"
     ]
    }
   ],
   "source": [
    "decision_one = lambda svm, x: svm.decision_function(x)\n",
    "decisions = [decision_one(svm, X_valid) for svm in models]\n",
    "aggregate = np.mean(np.stack(decisions, axis=1), axis=1)\n",
    "print(aggregate.shape)"
   ]
  },
  {
   "cell_type": "code",
   "execution_count": 36,
   "metadata": {
    "collapsed": false
   },
   "outputs": [
    {
     "name": "stdout",
     "output_type": "stream",
     "text": [
      "-1.72331301794\n",
      "-0.792021057983\n"
     ]
    },
    {
     "data": {
      "image/png": "[encoded data removed]",
      "text/plain": [
       "<matplotlib.figure.Figure at 0x7f6cc804fd90>"
      ]
     },
     "metadata": {
      "image/png": {
       "height": 386,
       "width": 524
      }
     },
     "output_type": "display_data"
    }
   ],
   "source": [
    "print(min(aggregate))\n",
    "print(max(aggregate))\n",
    "plt.figure()\n",
    "plt.hist(aggregate, 32, normed=True)\n",
    "plt.title('Decision function outcome on validation set (pdf)')\n",
    "plt.xlabel('svm(x)')\n",
    "plt.ylabel('pdf')\n",
    "plt.show()"
   ]
  },
  {
   "cell_type": "code",
   "execution_count": 37,
   "metadata": {
    "collapsed": false
   },
   "outputs": [
    {
     "name": "stdout",
     "output_type": "stream",
     "text": [
      "AUC: 0.697722223766\n"
     ]
    },
    {
     "data": {
      "image/png": "[encoded data removed]",
      "text/plain": [
       "<matplotlib.figure.Figure at 0x7f6ccaf925d0>"
      ]
     },
     "metadata": {
      "image/png": {
       "height": 386,
       "width": 392
      }
     },
     "output_type": "display_data"
    }
   ],
   "source": [
    "from sklearn.metrics import roc_curve, roc_auc_score\n",
    "\n",
    "# Evaluate.\n",
    "def evaluate(decision_fn, title):\n",
    "    fpr, tpr, thresholds = roc_curve(y_valid, decision_fn)\n",
    "    auc = roc_auc_score(y_valid, decision_fn)\n",
    "\n",
    "    print('AUC: {0}'.format(auc))\n",
    "\n",
    "    plt.figure(figsize=(4,4))\n",
    "    plt.plot(fpr, tpr)\n",
    "    plt.title('ROC curve: ' + title)\n",
    "    plt.xlabel('False positive rate')\n",
    "    plt.ylabel('True positive rate')\n",
    "    plt.xlim(0, 1)\n",
    "    plt.ylim(0, 1)\n",
    "    plt.show()\n",
    "evaluate(aggregate, 'Average 20 SVMs')"
   ]
  }
 ],
 "metadata": {
  "anaconda-cloud": {},
  "kernelspec": {
   "display_name": "Python [python2]",
   "language": "python",
   "name": "Python [python2]"
  },
  "language_info": {
   "codemirror_mode": {
    "name": "ipython",
    "version": 2
   },
   "file_extension": ".py",
   "mimetype": "text/x-python",
   "name": "python",
   "nbconvert_exporter": "python",
   "pygments_lexer": "ipython2",
   "version": "2.7.13"
  }
 },
 "nbformat": 4,
 "nbformat_minor": 0
}
