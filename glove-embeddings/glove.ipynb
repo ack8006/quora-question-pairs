{
 "cells": [
  {
   "cell_type": "code",
   "execution_count": 1,
   "metadata": {
    "collapsed": false
   },
   "outputs": [],
   "source": [
    "import numpy as np\n",
    "import pandas as pd\n",
    "import nltk"
   ]
  },
  {
   "cell_type": "code",
   "execution_count": 85,
   "metadata": {
    "collapsed": true
   },
   "outputs": [],
   "source": [
    "def get_paragraph_embedding(paragraph, embeddings, embedding_size=0,\n",
    "                            ignore_unknown=True,\n",
    "                            unknown_embedding=None):\n",
    "    '''Return a paragraph embedding as an average of its word embeddings.'''\n",
    "    embedding_size = embeddings['the'].shape[0]\n",
    "    paragraph_embedding = np.zeros(embedding_size)\n",
    "    count_words = 0\n",
    "    for word in paragraph:\n",
    "        if word in embeddings:\n",
    "            we = embeddings[word]\n",
    "            paragraph_embedding += we\n",
    "            count_words += 1\n",
    "        elif not ignore_unknown:\n",
    "            we = unknown_embedding\n",
    "            paragraph_embedding += we\n",
    "            count_words += 1\n",
    "    if count_words == 0:\n",
    "        paragraph_embedding = paragraph_embedding\n",
    "    else:\n",
    "        paragraph_embedding = paragraph_embedding / count_words\n",
    "    return paragraph_embedding"
   ]
  },
  {
   "cell_type": "code",
   "execution_count": 3,
   "metadata": {
    "collapsed": true
   },
   "outputs": [],
   "source": [
    "def calculate_similarity(paragraph_embedding, question_embedding):\n",
    "    similarity = np.dot(paragraph_embedding, question_embedding)\n",
    "    return similarity"
   ]
  },
  {
   "cell_type": "code",
   "execution_count": 4,
   "metadata": {
    "collapsed": true
   },
   "outputs": [],
   "source": [
    "def load_embeddings(filepath):\n",
    "    embeddings = {}\n",
    "    with open(filepath, \"rb\") as f:\n",
    "        for line in f:\n",
    "            line = line.decode(\"utf-8\")\n",
    "            elements = line.strip().split(' ', 1)\n",
    "            word = elements[0]\n",
    "            vector = [float(x) for x in elements[1].split(' ')]\n",
    "            vector = np.array(vector)\n",
    "            embeddings[word] = vector\n",
    "    return embeddings"
   ]
  },
  {
   "cell_type": "code",
   "execution_count": 5,
   "metadata": {
    "collapsed": false
   },
   "outputs": [],
   "source": [
    "embedding_size = 50\n",
    "embeddings = load_embeddings(\"../glove.6B.50d.txt\")"
   ]
  },
  {
   "cell_type": "code",
   "execution_count": 8,
   "metadata": {
    "collapsed": false
   },
   "outputs": [
    {
     "data": {
      "text/plain": [
       "array([ 0.13967  , -0.53798  , -0.18047  , -0.25142  ,  0.16203  ,\n",
       "       -0.13868  , -0.24637  ,  0.75111  ,  0.27264  ,  0.61035  ,\n",
       "       -0.82548  ,  0.038647 , -0.32361  ,  0.30373  , -0.14598  ,\n",
       "       -0.23551  ,  0.39267  , -1.1287   , -0.23636  , -1.0629   ,\n",
       "        0.046277 ,  0.29143  , -0.25819  , -0.094902 ,  0.79478  ,\n",
       "       -1.2095   , -0.01039  , -0.092086 ,  0.84322  , -0.11061  ,\n",
       "        3.0096   ,  0.51652  , -0.76986  ,  0.51074  ,  0.37508  ,\n",
       "        0.12156  ,  0.082794 ,  0.43605  , -0.1584   , -0.61048  ,\n",
       "        0.35006  ,  0.52465  , -0.51747  ,  0.0034705,  0.73625  ,\n",
       "        0.16252  ,  0.85279  ,  0.85268  ,  0.57892  ,  0.64483  ])"
      ]
     },
     "execution_count": 8,
     "metadata": {},
     "output_type": "execute_result"
    }
   ],
   "source": [
    "embeddings['quick']"
   ]
  },
  {
   "cell_type": "code",
   "execution_count": 23,
   "metadata": {
    "collapsed": true
   },
   "outputs": [],
   "source": [
    "train_data = pd.read_csv(\"../data/train.csv\", encoding='utf-8')"
   ]
  },
  {
   "cell_type": "code",
   "execution_count": 24,
   "metadata": {
    "collapsed": false
   },
   "outputs": [],
   "source": [
    "train_data = train_data.dropna()"
   ]
  },
  {
   "cell_type": "code",
   "execution_count": 25,
   "metadata": {
    "collapsed": false
   },
   "outputs": [
    {
     "data": {
      "text/html": [
       "<div>\n",
       "<table border=\"1\" class=\"dataframe\">\n",
       "  <thead>\n",
       "    <tr style=\"text-align: right;\">\n",
       "      <th></th>\n",
       "      <th>id</th>\n",
       "      <th>qid1</th>\n",
       "      <th>qid2</th>\n",
       "      <th>question1</th>\n",
       "      <th>question2</th>\n",
       "      <th>is_duplicate</th>\n",
       "    </tr>\n",
       "  </thead>\n",
       "  <tbody>\n",
       "    <tr>\n",
       "      <th>0</th>\n",
       "      <td>0</td>\n",
       "      <td>1</td>\n",
       "      <td>2</td>\n",
       "      <td>What is the step by step guide to invest in sh...</td>\n",
       "      <td>What is the step by step guide to invest in sh...</td>\n",
       "      <td>0</td>\n",
       "    </tr>\n",
       "    <tr>\n",
       "      <th>1</th>\n",
       "      <td>1</td>\n",
       "      <td>3</td>\n",
       "      <td>4</td>\n",
       "      <td>What is the story of Kohinoor (Koh-i-Noor) Dia...</td>\n",
       "      <td>What would happen if the Indian government sto...</td>\n",
       "      <td>0</td>\n",
       "    </tr>\n",
       "    <tr>\n",
       "      <th>2</th>\n",
       "      <td>2</td>\n",
       "      <td>5</td>\n",
       "      <td>6</td>\n",
       "      <td>How can I increase the speed of my internet co...</td>\n",
       "      <td>How can Internet speed be increased by hacking...</td>\n",
       "      <td>0</td>\n",
       "    </tr>\n",
       "    <tr>\n",
       "      <th>3</th>\n",
       "      <td>3</td>\n",
       "      <td>7</td>\n",
       "      <td>8</td>\n",
       "      <td>Why am I mentally very lonely? How can I solve...</td>\n",
       "      <td>Find the remainder when [math]23^{24}[/math] i...</td>\n",
       "      <td>0</td>\n",
       "    </tr>\n",
       "    <tr>\n",
       "      <th>4</th>\n",
       "      <td>4</td>\n",
       "      <td>9</td>\n",
       "      <td>10</td>\n",
       "      <td>Which one dissolve in water quikly sugar, salt...</td>\n",
       "      <td>Which fish would survive in salt water?</td>\n",
       "      <td>0</td>\n",
       "    </tr>\n",
       "  </tbody>\n",
       "</table>\n",
       "</div>"
      ],
      "text/plain": [
       "   id  qid1  qid2                                          question1  \\\n",
       "0   0     1     2  What is the step by step guide to invest in sh...   \n",
       "1   1     3     4  What is the story of Kohinoor (Koh-i-Noor) Dia...   \n",
       "2   2     5     6  How can I increase the speed of my internet co...   \n",
       "3   3     7     8  Why am I mentally very lonely? How can I solve...   \n",
       "4   4     9    10  Which one dissolve in water quikly sugar, salt...   \n",
       "\n",
       "                                           question2  is_duplicate  \n",
       "0  What is the step by step guide to invest in sh...             0  \n",
       "1  What would happen if the Indian government sto...             0  \n",
       "2  How can Internet speed be increased by hacking...             0  \n",
       "3  Find the remainder when [math]23^{24}[/math] i...             0  \n",
       "4            Which fish would survive in salt water?             0  "
      ]
     },
     "execution_count": 25,
     "metadata": {},
     "output_type": "execute_result"
    }
   ],
   "source": [
    "train_data[:5]"
   ]
  },
  {
   "cell_type": "code",
   "execution_count": 26,
   "metadata": {
    "collapsed": true
   },
   "outputs": [],
   "source": [
    "question1 = list(train_data[\"question1\"])"
   ]
  },
  {
   "cell_type": "code",
   "execution_count": 27,
   "metadata": {
    "collapsed": true
   },
   "outputs": [],
   "source": [
    "question2 = list(train_data[\"question2\"])"
   ]
  },
  {
   "cell_type": "code",
   "execution_count": 28,
   "metadata": {
    "collapsed": true
   },
   "outputs": [],
   "source": [
    "is_duplicate = list(train_data[\"is_duplicate\"])"
   ]
  },
  {
   "cell_type": "code",
   "execution_count": 29,
   "metadata": {
    "collapsed": false
   },
   "outputs": [
    {
     "data": {
      "text/plain": [
       "(404288, 404288)"
      ]
     },
     "execution_count": 29,
     "metadata": {},
     "output_type": "execute_result"
    }
   ],
   "source": [
    "len(question1), len(question2)"
   ]
  },
  {
   "cell_type": "code",
   "execution_count": 30,
   "metadata": {
    "collapsed": false
   },
   "outputs": [],
   "source": [
    "def remove_weird_chars(q):\n",
    "    return q.encode('ascii', 'ignore')\n",
    "q1_sent_tokenized = [nltk.sent_tokenize(remove_weird_chars(q1)) for q1 in question1]"
   ]
  },
  {
   "cell_type": "code",
   "execution_count": 31,
   "metadata": {
    "collapsed": true
   },
   "outputs": [],
   "source": [
    "q2_sent_tokenized = [nltk.sent_tokenize(remove_weird_chars(q2)) for q2 in question2]"
   ]
  },
  {
   "cell_type": "code",
   "execution_count": 32,
   "metadata": {
    "collapsed": true
   },
   "outputs": [],
   "source": [
    "q1_word_tokenized = []\n",
    "for q1_sent in q1_sent_tokenized:\n",
    "    S = []\n",
    "    for s in q1_sent:\n",
    "        S.extend(nltk.word_tokenize(s))\n",
    "    q1_word_tokenized.append(S)"
   ]
  },
  {
   "cell_type": "code",
   "execution_count": 33,
   "metadata": {
    "collapsed": true
   },
   "outputs": [],
   "source": [
    "q2_word_tokenized = []\n",
    "for q2_sent in q2_sent_tokenized:\n",
    "    S = []\n",
    "    for s in q2_sent:\n",
    "        S.extend(nltk.word_tokenize(s))\n",
    "    q2_word_tokenized.append(S)"
   ]
  },
  {
   "cell_type": "code",
   "execution_count": 38,
   "metadata": {
    "collapsed": false
   },
   "outputs": [
    {
     "name": "stdout",
     "output_type": "stream",
     "text": [
      "['Will', 'squats', 'make', 'my', 'legs', 'thicker', '?']\n",
      "['Why', 'do', 'Slavs', 'squat', '?']\n"
     ]
    }
   ],
   "source": [
    "print(q2_word_tokenized[40])\n",
    "print(q1_word_tokenized[40])"
   ]
  },
  {
   "cell_type": "code",
   "execution_count": 39,
   "metadata": {
    "collapsed": false
   },
   "outputs": [
    {
     "name": "stdout",
     "output_type": "stream",
     "text": [
      "[0, 0, 0, 0, 0, 1, 0, 1, 0, 0]\n"
     ]
    }
   ],
   "source": [
    "print(is_duplicate[:10])"
   ]
  },
  {
   "cell_type": "code",
   "execution_count": 37,
   "metadata": {
    "collapsed": false
   },
   "outputs": [
    {
     "data": {
      "text/plain": [
       "(404288, 404288, 404288)"
      ]
     },
     "execution_count": 37,
     "metadata": {},
     "output_type": "execute_result"
    }
   ],
   "source": [
    "len(q1_word_tokenized), len(q2_word_tokenized), len(is_duplicate)"
   ]
  },
  {
   "cell_type": "markdown",
   "metadata": {},
   "source": [
    "I AM HERE"
   ]
  },
  {
   "cell_type": "code",
   "execution_count": 45,
   "metadata": {
    "collapsed": false
   },
   "outputs": [],
   "source": [
    "# Save these files so I don't have to do this again\n",
    "import csv\n",
    "def save_tokenized(words_tokenized, path):\n",
    "    with open(path, 'w') as f:\n",
    "        writer = csv.writer(f, delimiter='|')\n",
    "        for line in words_tokenized:\n",
    "            l_in_glove = [(w.lower() if w.lower() in embeddings else '<unk>') for w in line]\n",
    "            writer.writerow(l_in_glove)\n",
    "\n",
    "save_tokenized(q1_word_tokenized, '../data/train_q1.txt')\n",
    "save_tokenized(q2_word_tokenized, '../data/train_q2.txt')"
   ]
  },
  {
   "cell_type": "code",
   "execution_count": 47,
   "metadata": {
    "collapsed": false
   },
   "outputs": [],
   "source": [
    "# Save the labels as well.\n",
    "with open('../data/train_is_duplicate.txt', 'w') as f:\n",
    "    for is_dup in is_duplicate:\n",
    "        f.write(str(is_dup))\n",
    "        f.write('\\n')"
   ]
  },
  {
   "cell_type": "code",
   "execution_count": 48,
   "metadata": {
    "collapsed": false
   },
   "outputs": [],
   "source": [
    "q1_embeddings = []\n",
    "for q1 in q1_word_tokenized:\n",
    "    e = get_paragraph_embedding(q1, embeddings, embedding_size, ignore_unknown=True)\n",
    "    q1_embeddings.append(e)"
   ]
  },
  {
   "cell_type": "code",
   "execution_count": 49,
   "metadata": {
    "collapsed": true
   },
   "outputs": [],
   "source": [
    "q2_embeddings = []\n",
    "for q2 in q2_word_tokenized:\n",
    "    e = get_paragraph_embedding(q2, embeddings, embedding_size, ignore_unknown=True)\n",
    "    q2_embeddings.append(e)"
   ]
  },
  {
   "cell_type": "code",
   "execution_count": 50,
   "metadata": {
    "collapsed": false
   },
   "outputs": [
    {
     "data": {
      "text/plain": [
       "[array([ 0.35366419,  0.03833964,  0.01953536,  0.06931   ,  0.38226814,\n",
       "        -0.05137364, -0.36991901, -0.29983486, -0.0116763 ,  0.08655371,\n",
       "         0.05764364,  0.07743236, -0.33866921, -0.18898182,  0.26450716,\n",
       "         0.39870071,  0.16967421, -0.00728307, -0.25885138, -0.18244971,\n",
       "         0.48905493, -0.00527301, -0.00482579, -0.01139729,  0.1307275 ,\n",
       "        -1.57990714, -0.27115071, -0.17342526,  0.03555186, -0.030406  ,\n",
       "         3.39192143,  0.19942143, -0.26855257, -0.09582714,  0.04574472,\n",
       "        -0.37669044, -0.17840407,  0.15865429, -0.01094743, -0.21468236,\n",
       "        -0.272817  , -0.05851231,  0.10177307, -0.07771479, -0.07253807,\n",
       "         0.20498281, -0.12513408,  0.06108879,  0.15669007, -0.05609071]),\n",
       " array([  2.21262857e-01,   6.99364286e-01,  -1.67583571e-01,\n",
       "          9.92642857e-02,   4.29764071e-01,   2.84206143e-01,\n",
       "         -3.46837286e-02,  -7.06412857e-01,  -2.70095747e-01,\n",
       "         -2.67267571e-01,  -1.54111429e-02,   2.59952857e-01,\n",
       "         -2.91469257e-01,  -2.34102214e-01,   5.39925786e-01,\n",
       "          5.17662857e-02,   1.14809714e-01,   2.19325857e-01,\n",
       "         -6.28699471e-01,   1.59476571e-01,  -2.20925857e-01,\n",
       "         -7.51214286e-02,   2.88160386e-01,   2.47151429e-01,\n",
       "          1.45659000e-01,  -1.49424857e+00,  -6.34955714e-01,\n",
       "         -1.21092714e-01,  -3.17914286e-03,  -2.70393429e-01,\n",
       "          3.52022857e+00,  -4.03141429e-01,  -3.65090000e-01,\n",
       "         -7.97485714e-02,  -1.17673267e-01,  -4.26886714e-02,\n",
       "          1.64540000e-01,  -2.28569714e-01,   4.35988143e-01,\n",
       "         -9.99935714e-02,   2.05102429e-01,   1.85881429e-01,\n",
       "          9.94605714e-02,  -1.39812286e-01,  -3.66652857e-01,\n",
       "          3.79740000e-01,   1.60846271e-01,  -4.28741429e-01,\n",
       "          1.06288857e-01,   1.65600000e-01]),\n",
       " array([  3.29813333e-01,   2.69058333e-01,   3.20118750e-01,\n",
       "         -8.63500000e-04,   2.34265833e-01,   2.96925167e-01,\n",
       "         -2.59134333e-01,  -3.64979333e-01,   2.29381648e-01,\n",
       "          2.03058083e-01,   8.80173333e-02,   9.05941667e-02,\n",
       "         -2.69825833e-01,  -1.18905542e-01,   2.98085875e-01,\n",
       "          1.39459833e-01,  -1.32848283e-01,   6.21859167e-02,\n",
       "         -2.45285858e-01,  -5.69802833e-01,   1.78893167e-01,\n",
       "          8.50925000e-03,   7.45722500e-02,   1.31289717e-01,\n",
       "          2.30528417e-01,  -1.73188333e+00,  -3.98624500e-01,\n",
       "         -7.13168333e-02,   4.76833917e-01,  -2.17924167e-01,\n",
       "          3.47695000e+00,   2.26273333e-01,  -3.62998333e-01,\n",
       "         -3.11953250e-01,   1.42217608e-02,  -5.20248917e-02,\n",
       "         -1.21941667e-02,   9.29068333e-02,   5.13851667e-02,\n",
       "         -7.82720000e-02,   1.08579167e-01,   1.32816417e-01,\n",
       "         -4.82256667e-02,   3.86054833e-01,  -7.24290000e-02,\n",
       "         -1.42860083e-01,   1.64651408e-01,  -1.11894083e-01,\n",
       "          1.11223250e-01,   3.11258333e-02])]"
      ]
     },
     "execution_count": 50,
     "metadata": {},
     "output_type": "execute_result"
    }
   ],
   "source": [
    "q1_embeddings[:3]"
   ]
  },
  {
   "cell_type": "code",
   "execution_count": 65,
   "metadata": {
    "collapsed": false
   },
   "outputs": [],
   "source": [
    "def cosine_dist(q1_embed, q2_embed):\n",
    "    similarity = np.dot(q1_embed, q2_embed)\n",
    "    q1_len = np.sqrt(np.dot(q1_embed, q1_embed)) + 1e-4\n",
    "    q2_len = np.sqrt(np.dot(q2_embed, q2_embed)) + 1e-4\n",
    "    return similarity / q1_len / q2_len\n",
    "similarity = [cosine_dist(q1, q2) for q1, q2 in zip(q1_embeddings, q2_embeddings)]"
   ]
  },
  {
   "cell_type": "code",
   "execution_count": 73,
   "metadata": {
    "collapsed": false
   },
   "outputs": [
    {
     "name": "stdout",
     "output_type": "stream",
     "text": [
      "(404288,)\n",
      "(404288,)\n"
     ]
    }
   ],
   "source": [
    "data = [(s, d) for s, d in zip(similarity, is_duplicate)]\n",
    "sim_array = np.array(similarity)\n",
    "print(sim_array.shape)\n",
    "dat_array = np.array(is_duplicate)\n",
    "print(dat_array.shape)"
   ]
  },
  {
   "cell_type": "code",
   "execution_count": 67,
   "metadata": {
    "collapsed": false
   },
   "outputs": [
    {
     "data": {
      "text/plain": [
       "(404288, 404288)"
      ]
     },
     "execution_count": 67,
     "metadata": {},
     "output_type": "execute_result"
    }
   ],
   "source": [
    "len(similarity), len(data)"
   ]
  },
  {
   "cell_type": "code",
   "execution_count": 68,
   "metadata": {
    "collapsed": false
   },
   "outputs": [
    {
     "data": {
      "text/plain": [
       "[(0.9946319280636694, 0), (0.92681689248468313, 0), (0.97470912044718716, 0)]"
      ]
     },
     "execution_count": 68,
     "metadata": {},
     "output_type": "execute_result"
    }
   ],
   "source": [
    "data[:3]"
   ]
  },
  {
   "cell_type": "code",
   "execution_count": 79,
   "metadata": {
    "collapsed": false
   },
   "outputs": [
    {
     "name": "stdout",
     "output_type": "stream",
     "text": [
      "AUC: 0.659087492549\n"
     ]
    }
   ],
   "source": [
    "from sklearn.metrics import roc_curve, roc_auc_score\n",
    "\n",
    "fpr, tpr, thresholds = roc_curve(dat_array, sim_array)\n",
    "auc = roc_auc_score(dat_array, sim_array)\n",
    "\n",
    "print('AUC: {0}'.format(auc))"
   ]
  },
  {
   "cell_type": "code",
   "execution_count": 80,
   "metadata": {
    "collapsed": true
   },
   "outputs": [],
   "source": [
    "import numpy as np\n",
    "import matplotlib.pyplot as plt\n",
    "from sklearn.datasets.samples_generator import make_blobs\n",
    "import matplotlib as mpl\n",
    "mpl.rcParams['savefig.dpi'] = 100\n",
    "mpl.rcParams['figure.dpi'] = 100\n",
    "\n",
    "%config InlineBackend.figure_format = 'retina'\n",
    "%matplotlib inline"
   ]
  },
  {
   "cell_type": "code",
   "execution_count": 84,
   "metadata": {
    "collapsed": false
   },
   "outputs": [
    {
     "data": {
      "image/png": "[encoded data removed]",
      "text/plain": [
       "<matplotlib.figure.Figure at 0x7f41f32c6710>"
      ]
     },
     "metadata": {
      "image/png": {
       "height": 386,
       "width": 392
      }
     },
     "output_type": "display_data"
    }
   ],
   "source": [
    "plt.figure(figsize=(4,4))\n",
    "plt.plot(fpr, tpr)\n",
    "plt.title('ROC curve: cosine similarity, 50d GloVe')\n",
    "plt.xlabel('False positive rate')\n",
    "plt.ylabel('True positive rate')\n",
    "plt.xlim(0, 1)\n",
    "plt.ylim(0, 1)\n",
    "plt.show()"
   ]
  },
  {
   "cell_type": "code",
   "execution_count": 86,
   "metadata": {
    "collapsed": true
   },
   "outputs": [],
   "source": [
    "# What about 300d GloVe?\n",
    "embeddings300 = load_embeddings(\"../data/glove.6B.300d.txt\")"
   ]
  },
  {
   "cell_type": "code",
   "execution_count": 87,
   "metadata": {
    "collapsed": true
   },
   "outputs": [],
   "source": [
    "del q1_embeddings\n",
    "del q2_embeddings\n",
    "del data\n",
    "del embeddings"
   ]
  },
  {
   "cell_type": "code",
   "execution_count": 90,
   "metadata": {
    "collapsed": false
   },
   "outputs": [],
   "source": [
    "q1_emb300 = []\n",
    "q2_emb300 = []\n",
    "for q1 in q1_word_tokenized:\n",
    "    e = get_paragraph_embedding(q1, embeddings300, embedding_size, ignore_unknown=True)\n",
    "    q1_emb300.append(e)\n",
    "for q2 in q2_word_tokenized:\n",
    "    e = get_paragraph_embedding(q2, embeddings300, embedding_size, ignore_unknown=True)\n",
    "    q2_emb300.append(e)"
   ]
  },
  {
   "cell_type": "code",
   "execution_count": 91,
   "metadata": {
    "collapsed": false
   },
   "outputs": [
    {
     "name": "stdout",
     "output_type": "stream",
     "text": [
      "(300,)\n",
      "(300,)\n"
     ]
    }
   ],
   "source": [
    "# Sanity check\n",
    "print(q1_emb300[24].shape)\n",
    "print(q2_emb300[72].shape)"
   ]
  },
  {
   "cell_type": "code",
   "execution_count": 92,
   "metadata": {
    "collapsed": true
   },
   "outputs": [],
   "source": [
    "sim300 = [cosine_dist(q1, q2) for q1, q2 in zip(q1_emb300, q2_emb300)]"
   ]
  },
  {
   "cell_type": "code",
   "execution_count": 97,
   "metadata": {
    "collapsed": false
   },
   "outputs": [
    {
     "name": "stdout",
     "output_type": "stream",
     "text": [
      "(404288,)\n",
      "(404288,)\n",
      "AUC: 0.67116907076\n"
     ]
    },
    {
     "data": {
      "image/png": "[encoded data removed]",
      "text/plain": [
       "<matplotlib.figure.Figure at 0x7f41ecdfc410>"
      ]
     },
     "metadata": {
      "image/png": {
       "height": 386,
       "width": 397
      }
     },
     "output_type": "display_data"
    }
   ],
   "source": [
    "from sklearn.metrics import roc_curve, roc_auc_score\n",
    "\n",
    "fpr, tpr, thresholds = roc_curve(dat_array, sim_array)\n",
    "auc = roc_auc_score(dat_array, sim_array)\n",
    "\n",
    "print('AUC: {0}'.format(auc))\n",
    "\n",
    "# Evaluate.\n",
    "def evaluate(similarity, title):\n",
    "    sim_array = np.array(similarity)\n",
    "    print(sim_array.shape)\n",
    "    dat_array = np.array(is_duplicate)\n",
    "    print(dat_array.shape)\n",
    "\n",
    "    fpr, tpr, thresholds = roc_curve(dat_array, sim_array)\n",
    "    auc = roc_auc_score(dat_array, sim_array)\n",
    "\n",
    "    print('AUC: {0}'.format(auc))\n",
    "\n",
    "    plt.figure(figsize=(4,4))\n",
    "    plt.plot(fpr, tpr)\n",
    "    plt.title('ROC curve: ' + title)\n",
    "    plt.xlabel('False positive rate')\n",
    "    plt.ylabel('True positive rate')\n",
    "    plt.xlim(0, 1)\n",
    "    plt.ylim(0, 1)\n",
    "    plt.show()\n",
    "evaluate(sim300, 'cosine similarity, 300d GloVe')"
   ]
  },
  {
   "cell_type": "markdown",
   "metadata": {},
   "source": [
    "Going from 50d to 300d didn't add much in the end. What about if I use a SVM on the embeddings?"
   ]
  },
  {
   "cell_type": "code",
   "execution_count": 99,
   "metadata": {
    "collapsed": true
   },
   "outputs": [],
   "source": [
    "q1_array, q2_array = np.array(q1_emb300), np.array(q2_emb300)"
   ]
  },
  {
   "cell_type": "code",
   "execution_count": 106,
   "metadata": {
    "collapsed": true
   },
   "outputs": [],
   "source": [
    "del X"
   ]
  },
  {
   "cell_type": "code",
   "execution_count": 107,
   "metadata": {
    "collapsed": false
   },
   "outputs": [
    {
     "name": "stdout",
     "output_type": "stream",
     "text": [
      "(404288, 600)\n"
     ]
    },
    {
     "ename": "MemoryError",
     "evalue": "",
     "output_type": "error",
     "traceback": [
      "\u001b[0;31m---------------------------------------------------------------------------\u001b[0m",
      "\u001b[0;31mMemoryError\u001b[0m                               Traceback (most recent call last)",
      "\u001b[0;32m<ipython-input-107-106484f9b980>\u001b[0m in \u001b[0;36m<module>\u001b[0;34m()\u001b[0m\n\u001b[1;32m      8\u001b[0m \u001b[0my\u001b[0m \u001b[0;34m=\u001b[0m \u001b[0mis_duplicate\u001b[0m\u001b[0;34m\u001b[0m\u001b[0m\n\u001b[1;32m      9\u001b[0m \u001b[0;32mprint\u001b[0m\u001b[0;34m(\u001b[0m\u001b[0mX\u001b[0m\u001b[0;34m.\u001b[0m\u001b[0mshape\u001b[0m\u001b[0;34m)\u001b[0m\u001b[0;34m\u001b[0m\u001b[0m\n\u001b[0;32m---> 10\u001b[0;31m \u001b[0mX_train\u001b[0m\u001b[0;34m,\u001b[0m \u001b[0mX_valid\u001b[0m\u001b[0;34m,\u001b[0m \u001b[0my_train\u001b[0m\u001b[0;34m,\u001b[0m \u001b[0my_valid\u001b[0m \u001b[0;34m=\u001b[0m \u001b[0mtrain_test_split\u001b[0m\u001b[0;34m(\u001b[0m\u001b[0mX\u001b[0m\u001b[0;34m,\u001b[0m \u001b[0my\u001b[0m\u001b[0;34m,\u001b[0m \u001b[0mtest_size\u001b[0m\u001b[0;34m=\u001b[0m\u001b[0;36m0.4\u001b[0m\u001b[0;34m,\u001b[0m \u001b[0mrandom_state\u001b[0m\u001b[0;34m=\u001b[0m\u001b[0mrand\u001b[0m\u001b[0;34m)\u001b[0m\u001b[0;34m\u001b[0m\u001b[0m\n\u001b[0m\u001b[1;32m     11\u001b[0m \u001b[0;34m\u001b[0m\u001b[0m\n\u001b[1;32m     12\u001b[0m \u001b[0mnrm\u001b[0m \u001b[0;34m=\u001b[0m \u001b[0mNormalizer\u001b[0m\u001b[0;34m(\u001b[0m\u001b[0;34m)\u001b[0m\u001b[0;34m\u001b[0m\u001b[0m\n",
      "\u001b[0;32m/home/cipta/anaconda3/envs/python2/lib/python2.7/site-packages/sklearn/model_selection/_split.pyc\u001b[0m in \u001b[0;36mtrain_test_split\u001b[0;34m(*arrays, **options)\u001b[0m\n\u001b[1;32m   1700\u001b[0m     \u001b[0mtrain\u001b[0m\u001b[0;34m,\u001b[0m \u001b[0mtest\u001b[0m \u001b[0;34m=\u001b[0m \u001b[0mnext\u001b[0m\u001b[0;34m(\u001b[0m\u001b[0mcv\u001b[0m\u001b[0;34m.\u001b[0m\u001b[0msplit\u001b[0m\u001b[0;34m(\u001b[0m\u001b[0mX\u001b[0m\u001b[0;34m=\u001b[0m\u001b[0marrays\u001b[0m\u001b[0;34m[\u001b[0m\u001b[0;36m0\u001b[0m\u001b[0;34m]\u001b[0m\u001b[0;34m,\u001b[0m \u001b[0my\u001b[0m\u001b[0;34m=\u001b[0m\u001b[0mstratify\u001b[0m\u001b[0;34m)\u001b[0m\u001b[0;34m)\u001b[0m\u001b[0;34m\u001b[0m\u001b[0m\n\u001b[1;32m   1701\u001b[0m     return list(chain.from_iterable((safe_indexing(a, train),\n\u001b[0;32m-> 1702\u001b[0;31m                                      safe_indexing(a, test)) for a in arrays))\n\u001b[0m\u001b[1;32m   1703\u001b[0m \u001b[0;34m\u001b[0m\u001b[0m\n\u001b[1;32m   1704\u001b[0m \u001b[0;34m\u001b[0m\u001b[0m\n",
      "\u001b[0;32m/home/cipta/anaconda3/envs/python2/lib/python2.7/site-packages/sklearn/model_selection/_split.pyc\u001b[0m in \u001b[0;36m<genexpr>\u001b[0;34m((a,))\u001b[0m\n\u001b[1;32m   1700\u001b[0m     \u001b[0mtrain\u001b[0m\u001b[0;34m,\u001b[0m \u001b[0mtest\u001b[0m \u001b[0;34m=\u001b[0m \u001b[0mnext\u001b[0m\u001b[0;34m(\u001b[0m\u001b[0mcv\u001b[0m\u001b[0;34m.\u001b[0m\u001b[0msplit\u001b[0m\u001b[0;34m(\u001b[0m\u001b[0mX\u001b[0m\u001b[0;34m=\u001b[0m\u001b[0marrays\u001b[0m\u001b[0;34m[\u001b[0m\u001b[0;36m0\u001b[0m\u001b[0;34m]\u001b[0m\u001b[0;34m,\u001b[0m \u001b[0my\u001b[0m\u001b[0;34m=\u001b[0m\u001b[0mstratify\u001b[0m\u001b[0;34m)\u001b[0m\u001b[0;34m)\u001b[0m\u001b[0;34m\u001b[0m\u001b[0m\n\u001b[1;32m   1701\u001b[0m     return list(chain.from_iterable((safe_indexing(a, train),\n\u001b[0;32m-> 1702\u001b[0;31m                                      safe_indexing(a, test)) for a in arrays))\n\u001b[0m\u001b[1;32m   1703\u001b[0m \u001b[0;34m\u001b[0m\u001b[0m\n\u001b[1;32m   1704\u001b[0m \u001b[0;34m\u001b[0m\u001b[0m\n",
      "\u001b[0;32m/home/cipta/anaconda3/envs/python2/lib/python2.7/site-packages/sklearn/utils/__init__.pyc\u001b[0m in \u001b[0;36msafe_indexing\u001b[0;34m(X, indices)\u001b[0m\n\u001b[1;32m    108\u001b[0m                                    indices.dtype.kind == 'i'):\n\u001b[1;32m    109\u001b[0m             \u001b[0;31m# This is often substantially faster than X[indices]\u001b[0m\u001b[0;34m\u001b[0m\u001b[0;34m\u001b[0m\u001b[0m\n\u001b[0;32m--> 110\u001b[0;31m             \u001b[0;32mreturn\u001b[0m \u001b[0mX\u001b[0m\u001b[0;34m.\u001b[0m\u001b[0mtake\u001b[0m\u001b[0;34m(\u001b[0m\u001b[0mindices\u001b[0m\u001b[0;34m,\u001b[0m \u001b[0maxis\u001b[0m\u001b[0;34m=\u001b[0m\u001b[0;36m0\u001b[0m\u001b[0;34m)\u001b[0m\u001b[0;34m\u001b[0m\u001b[0m\n\u001b[0m\u001b[1;32m    111\u001b[0m         \u001b[0;32melse\u001b[0m\u001b[0;34m:\u001b[0m\u001b[0;34m\u001b[0m\u001b[0m\n\u001b[1;32m    112\u001b[0m             \u001b[0;32mreturn\u001b[0m \u001b[0mX\u001b[0m\u001b[0;34m[\u001b[0m\u001b[0mindices\u001b[0m\u001b[0;34m]\u001b[0m\u001b[0;34m\u001b[0m\u001b[0m\n",
      "\u001b[0;31mMemoryError\u001b[0m: "
     ]
    }
   ],
   "source": [
    "from sklearn.svm import SVC\n",
    "from sklearn.model_selection import train_test_split\n",
    "from sklearn.preprocessing import Normalizer\n",
    "\n",
    "rand = 33\n",
    "\n",
    "X = np.concatenate([q1_array, q2_array], axis=1)\n",
    "y = is_duplicate\n",
    "print(X.shape)\n",
    "X_train, X_valid, y_train, y_valid = train_test_split(X, y, test_size=0.4, random_state=rand)\n",
    "\n",
    "nrm = Normalizer()\n",
    "X_train = nrm.fit_transform(X_train)\n",
    "X_valid = nrm.transform(X_valid)"
   ]
  },
  {
   "cell_type": "markdown",
   "metadata": {},
   "source": [
    "I didn't run the rest."
   ]
  },
  {
   "cell_type": "code",
   "execution_count": 54,
   "metadata": {
    "collapsed": true
   },
   "outputs": [],
   "source": [
    "data.sort(key=lambda x: x[0])"
   ]
  },
  {
   "cell_type": "code",
   "execution_count": 55,
   "metadata": {
    "collapsed": true
   },
   "outputs": [],
   "source": [
    "prev_sum = 0\n",
    "duplicate_history = []\n",
    "\n",
    "for d in data:\n",
    "    prev_sum += d[1]\n",
    "    duplicate_history.append(prev_sum)"
   ]
  },
  {
   "cell_type": "code",
   "execution_count": 56,
   "metadata": {
    "collapsed": false
   },
   "outputs": [
    {
     "data": {
      "text/plain": [
       "404288"
      ]
     },
     "execution_count": 56,
     "metadata": {},
     "output_type": "execute_result"
    }
   ],
   "source": [
    "len(data)"
   ]
  },
  {
   "cell_type": "code",
   "execution_count": 57,
   "metadata": {
    "collapsed": false
   },
   "outputs": [],
   "source": [
    "actual_originals = is_duplicate.count(0)"
   ]
  },
  {
   "cell_type": "code",
   "execution_count": 58,
   "metadata": {
    "collapsed": false
   },
   "outputs": [],
   "source": [
    "actual_duplicates = is_duplicate.count(1)"
   ]
  },
  {
   "cell_type": "code",
   "execution_count": 59,
   "metadata": {
    "collapsed": true
   },
   "outputs": [],
   "source": [
    "accuracies = []\n",
    "\n",
    "for i in range(len(data)):\n",
    "    correct_original = i + 1 - duplicate_history[i]\n",
    "    correct_duplicates = actual_duplicates - duplicate_history[i]\n",
    "    acc = (correct_original + correct_duplicates) / len(data)\n",
    "    accuracies.append((i, acc))"
   ]
  },
  {
   "cell_type": "code",
   "execution_count": 60,
   "metadata": {
    "collapsed": true
   },
   "outputs": [],
   "source": [
    "accuracies.sort(key=lambda x: x[1])"
   ]
  },
  {
   "cell_type": "code",
   "execution_count": 61,
   "metadata": {
    "collapsed": false
   },
   "outputs": [
    {
     "data": {
      "text/plain": [
       "[(404278, 0),\n",
       " (404279, 0),\n",
       " (404280, 0),\n",
       " (404281, 0),\n",
       " (404282, 0),\n",
       " (404283, 0),\n",
       " (404284, 0),\n",
       " (404285, 0),\n",
       " (404286, 0),\n",
       " (404287, 0)]"
      ]
     },
     "execution_count": 61,
     "metadata": {},
     "output_type": "execute_result"
    }
   ],
   "source": [
    "accuracies[-10:]"
   ]
  },
  {
   "cell_type": "code",
   "execution_count": 103,
   "metadata": {
    "collapsed": false
   },
   "outputs": [],
   "source": [
    "mx = max(similarity)\n",
    "mn = min(similarity)"
   ]
  },
  {
   "cell_type": "code",
   "execution_count": 104,
   "metadata": {
    "collapsed": false
   },
   "outputs": [
    {
     "name": "stdout",
     "output_type": "stream",
     "text": [
      "32.7865704148 -4.98850421349\n"
     ]
    }
   ],
   "source": [
    "print(mx, mn)"
   ]
  },
  {
   "cell_type": "code",
   "execution_count": 110,
   "metadata": {
    "collapsed": true
   },
   "outputs": [],
   "source": [
    "shifted_similarity = [s - mn for s in similarity]"
   ]
  },
  {
   "cell_type": "code",
   "execution_count": 112,
   "metadata": {
    "collapsed": false
   },
   "outputs": [],
   "source": [
    "mx2 = max(shifted_similarity)"
   ]
  },
  {
   "cell_type": "code",
   "execution_count": 113,
   "metadata": {
    "collapsed": false
   },
   "outputs": [
    {
     "data": {
      "text/plain": [
       "37.775074628331403"
      ]
     },
     "execution_count": 113,
     "metadata": {},
     "output_type": "execute_result"
    }
   ],
   "source": [
    "mx2"
   ]
  },
  {
   "cell_type": "code",
   "execution_count": 114,
   "metadata": {
    "collapsed": true
   },
   "outputs": [],
   "source": [
    "scaled_shifted_similarity = [x / mx2 for x in shifted_similarity]"
   ]
  },
  {
   "cell_type": "code",
   "execution_count": null,
   "metadata": {
    "collapsed": true
   },
   "outputs": [],
   "source": []
  }
 ],
 "metadata": {
  "anaconda-cloud": {},
  "kernelspec": {
   "display_name": "Python [python2]",
   "language": "python",
   "name": "Python [python2]"
  },
  "language_info": {
   "codemirror_mode": {
    "name": "ipython",
    "version": 2
   },
   "file_extension": ".py",
   "mimetype": "text/x-python",
   "name": "python",
   "nbconvert_exporter": "python",
   "pygments_lexer": "ipython2",
   "version": "2.7.13"
  }
 },
 "nbformat": 4,
 "nbformat_minor": 2
}
